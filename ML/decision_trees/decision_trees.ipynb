{
 "cells": [
  {
   "cell_type": "markdown",
   "source": [
    "##Libs"
   ],
   "metadata": {
    "collapsed": false,
    "id": "RYwTyfzifmrA"
   }
  },
  {
   "cell_type": "code",
   "execution_count": 26,
   "metadata": {
    "collapsed": true,
    "id": "14vxaKutfmrG",
    "executionInfo": {
     "status": "ok",
     "timestamp": 1667211042446,
     "user_tz": -300,
     "elapsed": 418,
     "user": {
      "displayName": "Anastasia Strueva",
      "userId": "02698906465328404867"
     }
    }
   },
   "outputs": [],
   "source": [
    "import graphviz\n",
    "from sklearn.tree import DecisionTreeClassifier,DecisionTreeRegressor\n",
    "from sklearn.ensemble import RandomForestClassifier,RandomForestRegressor\n",
    "from sklearn.ensemble import AdaBoostClassifier,AdaBoostRegressor\n",
    "from sklearn.preprocessing import  StandardScaler\n",
    "import pandas as pd\n",
    "from sklearn import tree\n",
    "import numpy as np\n",
    "import sys\n",
    "\n",
    "\n",
    "import warnings\n",
    "warnings.filterwarnings('ignore')"
   ]
  },
  {
   "cell_type": "markdown",
   "source": [
    "##Load dataset"
   ],
   "metadata": {
    "collapsed": false,
    "id": "F-2ip_W7fmrI"
   }
  },
  {
   "cell_type": "code",
   "execution_count": 2,
   "outputs": [],
   "source": [
    "from sklearn.datasets import load_iris\n",
    "iris = load_iris()"
   ],
   "metadata": {
    "id": "JGT0u3T6fmrM",
    "executionInfo": {
     "status": "ok",
     "timestamp": 1667210589683,
     "user_tz": -300,
     "elapsed": 7,
     "user": {
      "displayName": "Anastasia Strueva",
      "userId": "02698906465328404867"
     }
    }
   }
  },
  {
   "cell_type": "markdown",
   "source": [
    "##Decition Tree"
   ],
   "metadata": {
    "id": "cAIDOSSVftDg"
   }
  },
  {
   "cell_type": "code",
   "execution_count": 3,
   "outputs": [],
   "source": [
    "trees={\n",
    "    \"DecisionTreeClassifier\":DecisionTreeClassifier, #based on entropy reduction\n",
    "    \"DecisionTreeRegressor\":DecisionTreeRegressor,\n",
    "}"
   ],
   "metadata": {
    "id": "SuoaiLRCfmrO",
    "executionInfo": {
     "status": "ok",
     "timestamp": 1667210603295,
     "user_tz": -300,
     "elapsed": 3,
     "user": {
      "displayName": "Anastasia Strueva",
      "userId": "02698906465328404867"
     }
    }
   }
  },
  {
   "cell_type": "code",
   "execution_count": 25,
   "outputs": [],
   "source": [
    "class Tree():\n",
    "    def __init__(self,\n",
    "                 dataset,\n",
    "                 random_state=0,\n",
    "                 tree_type=\"DecisionTreeClassifier\",\n",
    "                 criterion=\"entropy\",\n",
    "                 ):\n",
    "\n",
    "        self.dataset = dataset\n",
    "        self._setVectors()\n",
    "\n",
    "        try:\n",
    "            self.model = trees.get(tree_type)(random_state=random_state,\n",
    "                                             criterion=criterion\n",
    "                                            )\n",
    "            self.model.fit(self.X,self.Y)\n",
    "        except:\n",
    "             sys.exit('Some error')\n",
    "\n",
    "    def _setVectors(self):\n",
    "        self.X=[np.array(value[:-1]) for value in self.dataset]\n",
    "        self.Y=[np.array(value[-1]) for value in self.dataset]\n",
    "\n",
    "        #scaler=StandardScaler()\n",
    "        #self.X=scaler.fit_transform(self.X)\n",
    "\n",
    "    def plot_tree(self,feature_names,class_names):\n",
    "        dot_data=tree.export_graphviz(self.model,\n",
    "                                      out_file=None,\n",
    "                                      feature_names=feature_names,\n",
    "                                      class_names=class_names)\n",
    "        graph=graphviz.Source(dot_data)\n",
    "        return graph\n",
    "\n",
    "    def getPredict(self,X):\n",
    "        return self.model.predict(X)\n"
   ],
   "metadata": {
    "id": "1hAjIkKGfmrP",
    "executionInfo": {
     "status": "ok",
     "timestamp": 1667211035789,
     "user_tz": -300,
     "elapsed": 399,
     "user": {
      "displayName": "Anastasia Strueva",
      "userId": "02698906465328404867"
     }
    }
   }
  },
  {
   "cell_type": "code",
   "execution_count": 27,
   "outputs": [],
   "source": [
    "from sklearn.model_selection import train_test_split\n",
    "def accuracy_tree(dataset,test_sample=30, tree_type=\"DecisionTreeClassifier\",criterion=\"entropy\"):\n",
    "\n",
    "    X=dataset.data\n",
    "    Y=dataset.target\n",
    "    X_train,X_test,Y_train,Y_test=train_test_split(X,Y,test_size=test_sample)\n",
    "    train_dataset=np.hstack((X_train,np.resize(Y_train,(len(Y_train),1))))\n",
    "\n",
    "    predict=Tree(train_dataset, tree_type=tree_type,criterion=criterion)\n",
    "\n",
    "    graph=predict.plot_tree(dataset.feature_names,dataset.target_names)\n",
    "\n",
    "    answer=predict.getPredict(X_test)\n",
    "    accuracy=sum(int(x == y) for (x, y) in zip(answer,Y_test))\n",
    "\n",
    "    return graph,accuracy*100/len(X_test)"
   ],
   "metadata": {
    "id": "9HffapSZfmrR",
    "executionInfo": {
     "status": "ok",
     "timestamp": 1667211052044,
     "user_tz": -300,
     "elapsed": 387,
     "user": {
      "displayName": "Anastasia Strueva",
      "userId": "02698906465328404867"
     }
    }
   }
  },
  {
   "cell_type": "code",
   "execution_count": 28,
   "outputs": [],
   "source": [
    "graph,accuracy=accuracy_tree(iris,test_sample=30, tree_type=\"DecisionTreeClassifier\",criterion=\"entropy\")"
   ],
   "metadata": {
    "id": "b3Sw9SnDfmrS",
    "executionInfo": {
     "status": "ok",
     "timestamp": 1667211054439,
     "user_tz": -300,
     "elapsed": 4,
     "user": {
      "displayName": "Anastasia Strueva",
      "userId": "02698906465328404867"
     }
    }
   }
  },
  {
   "cell_type": "code",
   "execution_count": 29,
   "outputs": [
    {
     "output_type": "execute_result",
     "data": {
      "text/plain": [
       "<graphviz.files.Source at 0x7fc165399210>"
      ],
      "image/svg+xml": "<?xml version=\"1.0\" encoding=\"UTF-8\" standalone=\"no\"?>\n<!DOCTYPE svg PUBLIC \"-//W3C//DTD SVG 1.1//EN\"\n \"http://www.w3.org/Graphics/SVG/1.1/DTD/svg11.dtd\">\n<!-- Generated by graphviz version 2.40.1 (20161225.0304)\n -->\n<!-- Title: Tree Pages: 1 -->\n<svg width=\"656pt\" height=\"671pt\"\n viewBox=\"0.00 0.00 655.50 671.00\" xmlns=\"http://www.w3.org/2000/svg\" xmlns:xlink=\"http://www.w3.org/1999/xlink\">\n<g id=\"graph0\" class=\"graph\" transform=\"scale(1 1) rotate(0) translate(4 667)\">\n<title>Tree</title>\n<polygon fill=\"#ffffff\" stroke=\"transparent\" points=\"-4,4 -4,-667 651.5,-667 651.5,4 -4,4\"/>\n<!-- 0 -->\n<g id=\"node1\" class=\"node\">\n<title>0</title>\n<polygon fill=\"none\" stroke=\"#000000\" points=\"321,-663 159,-663 159,-580 321,-580 321,-663\"/>\n<text text-anchor=\"middle\" x=\"240\" y=\"-647.8\" font-family=\"Helvetica,sans-Serif\" font-size=\"14.00\" fill=\"#000000\">petal width (cm) &lt;= 0.8</text>\n<text text-anchor=\"middle\" x=\"240\" y=\"-632.8\" font-family=\"Helvetica,sans-Serif\" font-size=\"14.00\" fill=\"#000000\">entropy = 1.585</text>\n<text text-anchor=\"middle\" x=\"240\" y=\"-617.8\" font-family=\"Helvetica,sans-Serif\" font-size=\"14.00\" fill=\"#000000\">samples = 120</text>\n<text text-anchor=\"middle\" x=\"240\" y=\"-602.8\" font-family=\"Helvetica,sans-Serif\" font-size=\"14.00\" fill=\"#000000\">value = [40, 39, 41]</text>\n<text text-anchor=\"middle\" x=\"240\" y=\"-587.8\" font-family=\"Helvetica,sans-Serif\" font-size=\"14.00\" fill=\"#000000\">class = virginica</text>\n</g>\n<!-- 1 -->\n<g id=\"node2\" class=\"node\">\n<title>1</title>\n<polygon fill=\"none\" stroke=\"#000000\" points=\"217.5,-536.5 94.5,-536.5 94.5,-468.5 217.5,-468.5 217.5,-536.5\"/>\n<text text-anchor=\"middle\" x=\"156\" y=\"-521.3\" font-family=\"Helvetica,sans-Serif\" font-size=\"14.00\" fill=\"#000000\">entropy = 0.0</text>\n<text text-anchor=\"middle\" x=\"156\" y=\"-506.3\" font-family=\"Helvetica,sans-Serif\" font-size=\"14.00\" fill=\"#000000\">samples = 40</text>\n<text text-anchor=\"middle\" x=\"156\" y=\"-491.3\" font-family=\"Helvetica,sans-Serif\" font-size=\"14.00\" fill=\"#000000\">value = [40, 0, 0]</text>\n<text text-anchor=\"middle\" x=\"156\" y=\"-476.3\" font-family=\"Helvetica,sans-Serif\" font-size=\"14.00\" fill=\"#000000\">class = setosa</text>\n</g>\n<!-- 0&#45;&gt;1 -->\n<g id=\"edge1\" class=\"edge\">\n<title>0&#45;&gt;1</title>\n<path fill=\"none\" stroke=\"#000000\" d=\"M210.6209,-579.8796C202.7037,-568.6636 194.1269,-556.5131 186.1675,-545.2372\"/>\n<polygon fill=\"#000000\" stroke=\"#000000\" points=\"188.8486,-542.9662 180.2223,-536.8149 183.1298,-547.003 188.8486,-542.9662\"/>\n<text text-anchor=\"middle\" x=\"175.9746\" y=\"-557.7514\" font-family=\"Helvetica,sans-Serif\" font-size=\"14.00\" fill=\"#000000\">True</text>\n</g>\n<!-- 2 -->\n<g id=\"node3\" class=\"node\">\n<title>2</title>\n<polygon fill=\"none\" stroke=\"#000000\" points=\"412,-544 236,-544 236,-461 412,-461 412,-544\"/>\n<text text-anchor=\"middle\" x=\"324\" y=\"-528.8\" font-family=\"Helvetica,sans-Serif\" font-size=\"14.00\" fill=\"#000000\">petal length (cm) &lt;= 4.85</text>\n<text text-anchor=\"middle\" x=\"324\" y=\"-513.8\" font-family=\"Helvetica,sans-Serif\" font-size=\"14.00\" fill=\"#000000\">entropy = 1.0</text>\n<text text-anchor=\"middle\" x=\"324\" y=\"-498.8\" font-family=\"Helvetica,sans-Serif\" font-size=\"14.00\" fill=\"#000000\">samples = 80</text>\n<text text-anchor=\"middle\" x=\"324\" y=\"-483.8\" font-family=\"Helvetica,sans-Serif\" font-size=\"14.00\" fill=\"#000000\">value = [0, 39, 41]</text>\n<text text-anchor=\"middle\" x=\"324\" y=\"-468.8\" font-family=\"Helvetica,sans-Serif\" font-size=\"14.00\" fill=\"#000000\">class = virginica</text>\n</g>\n<!-- 0&#45;&gt;2 -->\n<g id=\"edge2\" class=\"edge\">\n<title>0&#45;&gt;2</title>\n<path fill=\"none\" stroke=\"#000000\" d=\"M269.3791,-579.8796C275.6094,-571.0534 282.2481,-561.6485 288.673,-552.5466\"/>\n<polygon fill=\"#000000\" stroke=\"#000000\" points=\"291.588,-554.4862 294.4955,-544.2981 285.8692,-550.4494 291.588,-554.4862\"/>\n<text text-anchor=\"middle\" x=\"298.7432\" y=\"-565.2346\" font-family=\"Helvetica,sans-Serif\" font-size=\"14.00\" fill=\"#000000\">False</text>\n</g>\n<!-- 3 -->\n<g id=\"node4\" class=\"node\">\n<title>3</title>\n<polygon fill=\"none\" stroke=\"#000000\" points=\"314,-425 144,-425 144,-342 314,-342 314,-425\"/>\n<text text-anchor=\"middle\" x=\"229\" y=\"-409.8\" font-family=\"Helvetica,sans-Serif\" font-size=\"14.00\" fill=\"#000000\">petal width (cm) &lt;= 1.65</text>\n<text text-anchor=\"middle\" x=\"229\" y=\"-394.8\" font-family=\"Helvetica,sans-Serif\" font-size=\"14.00\" fill=\"#000000\">entropy = 0.297</text>\n<text text-anchor=\"middle\" x=\"229\" y=\"-379.8\" font-family=\"Helvetica,sans-Serif\" font-size=\"14.00\" fill=\"#000000\">samples = 38</text>\n<text text-anchor=\"middle\" x=\"229\" y=\"-364.8\" font-family=\"Helvetica,sans-Serif\" font-size=\"14.00\" fill=\"#000000\">value = [0, 36, 2]</text>\n<text text-anchor=\"middle\" x=\"229\" y=\"-349.8\" font-family=\"Helvetica,sans-Serif\" font-size=\"14.00\" fill=\"#000000\">class = versicolor</text>\n</g>\n<!-- 2&#45;&gt;3 -->\n<g id=\"edge3\" class=\"edge\">\n<title>2&#45;&gt;3</title>\n<path fill=\"none\" stroke=\"#000000\" d=\"M290.7736,-460.8796C283.6556,-451.9633 276.0661,-442.4565 268.7308,-433.268\"/>\n<polygon fill=\"#000000\" stroke=\"#000000\" points=\"271.3425,-430.9295 262.3682,-425.2981 265.8719,-435.2968 271.3425,-430.9295\"/>\n</g>\n<!-- 8 -->\n<g id=\"node9\" class=\"node\">\n<title>8</title>\n<polygon fill=\"none\" stroke=\"#000000\" points=\"503,-425 333,-425 333,-342 503,-342 503,-425\"/>\n<text text-anchor=\"middle\" x=\"418\" y=\"-409.8\" font-family=\"Helvetica,sans-Serif\" font-size=\"14.00\" fill=\"#000000\">petal width (cm) &lt;= 1.75</text>\n<text text-anchor=\"middle\" x=\"418\" y=\"-394.8\" font-family=\"Helvetica,sans-Serif\" font-size=\"14.00\" fill=\"#000000\">entropy = 0.371</text>\n<text text-anchor=\"middle\" x=\"418\" y=\"-379.8\" font-family=\"Helvetica,sans-Serif\" font-size=\"14.00\" fill=\"#000000\">samples = 42</text>\n<text text-anchor=\"middle\" x=\"418\" y=\"-364.8\" font-family=\"Helvetica,sans-Serif\" font-size=\"14.00\" fill=\"#000000\">value = [0, 3, 39]</text>\n<text text-anchor=\"middle\" x=\"418\" y=\"-349.8\" font-family=\"Helvetica,sans-Serif\" font-size=\"14.00\" fill=\"#000000\">class = virginica</text>\n</g>\n<!-- 2&#45;&gt;8 -->\n<g id=\"edge8\" class=\"edge\">\n<title>2&#45;&gt;8</title>\n<path fill=\"none\" stroke=\"#000000\" d=\"M356.8766,-460.8796C363.9197,-451.9633 371.4293,-442.4565 378.6874,-433.268\"/>\n<polygon fill=\"#000000\" stroke=\"#000000\" points=\"381.5309,-435.3147 384.983,-425.2981 376.0379,-430.9757 381.5309,-435.3147\"/>\n</g>\n<!-- 4 -->\n<g id=\"node5\" class=\"node\">\n<title>4</title>\n<polygon fill=\"none\" stroke=\"#000000\" points=\"128,-298.5 0,-298.5 0,-230.5 128,-230.5 128,-298.5\"/>\n<text text-anchor=\"middle\" x=\"64\" y=\"-283.3\" font-family=\"Helvetica,sans-Serif\" font-size=\"14.00\" fill=\"#000000\">entropy = 0.0</text>\n<text text-anchor=\"middle\" x=\"64\" y=\"-268.3\" font-family=\"Helvetica,sans-Serif\" font-size=\"14.00\" fill=\"#000000\">samples = 35</text>\n<text text-anchor=\"middle\" x=\"64\" y=\"-253.3\" font-family=\"Helvetica,sans-Serif\" font-size=\"14.00\" fill=\"#000000\">value = [0, 35, 0]</text>\n<text text-anchor=\"middle\" x=\"64\" y=\"-238.3\" font-family=\"Helvetica,sans-Serif\" font-size=\"14.00\" fill=\"#000000\">class = versicolor</text>\n</g>\n<!-- 3&#45;&gt;4 -->\n<g id=\"edge4\" class=\"edge\">\n<title>3&#45;&gt;4</title>\n<path fill=\"none\" stroke=\"#000000\" d=\"M171.291,-341.8796C154.593,-329.8368 136.4013,-316.7167 119.8207,-304.7586\"/>\n<polygon fill=\"#000000\" stroke=\"#000000\" points=\"121.4715,-301.6339 111.3135,-298.623 117.3768,-307.3113 121.4715,-301.6339\"/>\n</g>\n<!-- 5 -->\n<g id=\"node6\" class=\"node\">\n<title>5</title>\n<polygon fill=\"none\" stroke=\"#000000\" points=\"312,-306 146,-306 146,-223 312,-223 312,-306\"/>\n<text text-anchor=\"middle\" x=\"229\" y=\"-290.8\" font-family=\"Helvetica,sans-Serif\" font-size=\"14.00\" fill=\"#000000\">sepal width (cm) &lt;= 3.1</text>\n<text text-anchor=\"middle\" x=\"229\" y=\"-275.8\" font-family=\"Helvetica,sans-Serif\" font-size=\"14.00\" fill=\"#000000\">entropy = 0.918</text>\n<text text-anchor=\"middle\" x=\"229\" y=\"-260.8\" font-family=\"Helvetica,sans-Serif\" font-size=\"14.00\" fill=\"#000000\">samples = 3</text>\n<text text-anchor=\"middle\" x=\"229\" y=\"-245.8\" font-family=\"Helvetica,sans-Serif\" font-size=\"14.00\" fill=\"#000000\">value = [0, 1, 2]</text>\n<text text-anchor=\"middle\" x=\"229\" y=\"-230.8\" font-family=\"Helvetica,sans-Serif\" font-size=\"14.00\" fill=\"#000000\">class = virginica</text>\n</g>\n<!-- 3&#45;&gt;5 -->\n<g id=\"edge5\" class=\"edge\">\n<title>3&#45;&gt;5</title>\n<path fill=\"none\" stroke=\"#000000\" d=\"M229,-341.8796C229,-333.6838 229,-324.9891 229,-316.5013\"/>\n<polygon fill=\"#000000\" stroke=\"#000000\" points=\"232.5001,-316.298 229,-306.2981 225.5001,-316.2981 232.5001,-316.298\"/>\n</g>\n<!-- 6 -->\n<g id=\"node7\" class=\"node\">\n<title>6</title>\n<polygon fill=\"none\" stroke=\"#000000\" points=\"151.5,-179.5 32.5,-179.5 32.5,-111.5 151.5,-111.5 151.5,-179.5\"/>\n<text text-anchor=\"middle\" x=\"92\" y=\"-164.3\" font-family=\"Helvetica,sans-Serif\" font-size=\"14.00\" fill=\"#000000\">entropy = 0.0</text>\n<text text-anchor=\"middle\" x=\"92\" y=\"-149.3\" font-family=\"Helvetica,sans-Serif\" font-size=\"14.00\" fill=\"#000000\">samples = 2</text>\n<text text-anchor=\"middle\" x=\"92\" y=\"-134.3\" font-family=\"Helvetica,sans-Serif\" font-size=\"14.00\" fill=\"#000000\">value = [0, 0, 2]</text>\n<text text-anchor=\"middle\" x=\"92\" y=\"-119.3\" font-family=\"Helvetica,sans-Serif\" font-size=\"14.00\" fill=\"#000000\">class = virginica</text>\n</g>\n<!-- 5&#45;&gt;6 -->\n<g id=\"edge6\" class=\"edge\">\n<title>5&#45;&gt;6</title>\n<path fill=\"none\" stroke=\"#000000\" d=\"M181.084,-222.8796C167.5385,-211.1138 152.8092,-198.3197 139.3002,-186.5855\"/>\n<polygon fill=\"#000000\" stroke=\"#000000\" points=\"141.3503,-183.7303 131.5054,-179.8149 136.7599,-189.015 141.3503,-183.7303\"/>\n</g>\n<!-- 7 -->\n<g id=\"node8\" class=\"node\">\n<title>7</title>\n<polygon fill=\"none\" stroke=\"#000000\" points=\"298,-179.5 170,-179.5 170,-111.5 298,-111.5 298,-179.5\"/>\n<text text-anchor=\"middle\" x=\"234\" y=\"-164.3\" font-family=\"Helvetica,sans-Serif\" font-size=\"14.00\" fill=\"#000000\">entropy = 0.0</text>\n<text text-anchor=\"middle\" x=\"234\" y=\"-149.3\" font-family=\"Helvetica,sans-Serif\" font-size=\"14.00\" fill=\"#000000\">samples = 1</text>\n<text text-anchor=\"middle\" x=\"234\" y=\"-134.3\" font-family=\"Helvetica,sans-Serif\" font-size=\"14.00\" fill=\"#000000\">value = [0, 1, 0]</text>\n<text text-anchor=\"middle\" x=\"234\" y=\"-119.3\" font-family=\"Helvetica,sans-Serif\" font-size=\"14.00\" fill=\"#000000\">class = versicolor</text>\n</g>\n<!-- 5&#45;&gt;7 -->\n<g id=\"edge7\" class=\"edge\">\n<title>5&#45;&gt;7</title>\n<path fill=\"none\" stroke=\"#000000\" d=\"M230.7488,-222.8796C231.1969,-212.2134 231.6806,-200.7021 232.1344,-189.9015\"/>\n<polygon fill=\"#000000\" stroke=\"#000000\" points=\"235.6352,-189.9531 232.5582,-179.8149 228.6414,-189.6592 235.6352,-189.9531\"/>\n</g>\n<!-- 9 -->\n<g id=\"node10\" class=\"node\">\n<title>9</title>\n<polygon fill=\"none\" stroke=\"#000000\" points=\"506,-306 330,-306 330,-223 506,-223 506,-306\"/>\n<text text-anchor=\"middle\" x=\"418\" y=\"-290.8\" font-family=\"Helvetica,sans-Serif\" font-size=\"14.00\" fill=\"#000000\">petal length (cm) &lt;= 5.05</text>\n<text text-anchor=\"middle\" x=\"418\" y=\"-275.8\" font-family=\"Helvetica,sans-Serif\" font-size=\"14.00\" fill=\"#000000\">entropy = 0.985</text>\n<text text-anchor=\"middle\" x=\"418\" y=\"-260.8\" font-family=\"Helvetica,sans-Serif\" font-size=\"14.00\" fill=\"#000000\">samples = 7</text>\n<text text-anchor=\"middle\" x=\"418\" y=\"-245.8\" font-family=\"Helvetica,sans-Serif\" font-size=\"14.00\" fill=\"#000000\">value = [0, 3, 4]</text>\n<text text-anchor=\"middle\" x=\"418\" y=\"-230.8\" font-family=\"Helvetica,sans-Serif\" font-size=\"14.00\" fill=\"#000000\">class = virginica</text>\n</g>\n<!-- 8&#45;&gt;9 -->\n<g id=\"edge9\" class=\"edge\">\n<title>8&#45;&gt;9</title>\n<path fill=\"none\" stroke=\"#000000\" d=\"M418,-341.8796C418,-333.6838 418,-324.9891 418,-316.5013\"/>\n<polygon fill=\"#000000\" stroke=\"#000000\" points=\"421.5001,-316.298 418,-306.2981 414.5001,-316.2981 421.5001,-316.298\"/>\n</g>\n<!-- 14 -->\n<g id=\"node15\" class=\"node\">\n<title>14</title>\n<polygon fill=\"none\" stroke=\"#000000\" points=\"647.5,-298.5 524.5,-298.5 524.5,-230.5 647.5,-230.5 647.5,-298.5\"/>\n<text text-anchor=\"middle\" x=\"586\" y=\"-283.3\" font-family=\"Helvetica,sans-Serif\" font-size=\"14.00\" fill=\"#000000\">entropy = 0.0</text>\n<text text-anchor=\"middle\" x=\"586\" y=\"-268.3\" font-family=\"Helvetica,sans-Serif\" font-size=\"14.00\" fill=\"#000000\">samples = 35</text>\n<text text-anchor=\"middle\" x=\"586\" y=\"-253.3\" font-family=\"Helvetica,sans-Serif\" font-size=\"14.00\" fill=\"#000000\">value = [0, 0, 35]</text>\n<text text-anchor=\"middle\" x=\"586\" y=\"-238.3\" font-family=\"Helvetica,sans-Serif\" font-size=\"14.00\" fill=\"#000000\">class = virginica</text>\n</g>\n<!-- 8&#45;&gt;14 -->\n<g id=\"edge14\" class=\"edge\">\n<title>8&#45;&gt;14</title>\n<path fill=\"none\" stroke=\"#000000\" d=\"M476.7582,-341.8796C493.9158,-329.7263 512.6223,-316.4759 529.6286,-304.4297\"/>\n<polygon fill=\"#000000\" stroke=\"#000000\" points=\"531.6891,-307.2593 537.8263,-298.623 527.643,-301.5472 531.6891,-307.2593\"/>\n</g>\n<!-- 10 -->\n<g id=\"node11\" class=\"node\">\n<title>10</title>\n<polygon fill=\"none\" stroke=\"#000000\" points=\"500,-187 326,-187 326,-104 500,-104 500,-187\"/>\n<text text-anchor=\"middle\" x=\"413\" y=\"-171.8\" font-family=\"Helvetica,sans-Serif\" font-size=\"14.00\" fill=\"#000000\">sepal width (cm) &lt;= 2.35</text>\n<text text-anchor=\"middle\" x=\"413\" y=\"-156.8\" font-family=\"Helvetica,sans-Serif\" font-size=\"14.00\" fill=\"#000000\">entropy = 0.811</text>\n<text text-anchor=\"middle\" x=\"413\" y=\"-141.8\" font-family=\"Helvetica,sans-Serif\" font-size=\"14.00\" fill=\"#000000\">samples = 4</text>\n<text text-anchor=\"middle\" x=\"413\" y=\"-126.8\" font-family=\"Helvetica,sans-Serif\" font-size=\"14.00\" fill=\"#000000\">value = [0, 3, 1]</text>\n<text text-anchor=\"middle\" x=\"413\" y=\"-111.8\" font-family=\"Helvetica,sans-Serif\" font-size=\"14.00\" fill=\"#000000\">class = versicolor</text>\n</g>\n<!-- 9&#45;&gt;10 -->\n<g id=\"edge10\" class=\"edge\">\n<title>9&#45;&gt;10</title>\n<path fill=\"none\" stroke=\"#000000\" d=\"M416.2512,-222.8796C415.9069,-214.6838 415.5416,-205.9891 415.1849,-197.5013\"/>\n<polygon fill=\"#000000\" stroke=\"#000000\" points=\"418.673,-197.1423 414.7562,-187.2981 411.6792,-197.4362 418.673,-197.1423\"/>\n</g>\n<!-- 13 -->\n<g id=\"node14\" class=\"node\">\n<title>13</title>\n<polygon fill=\"none\" stroke=\"#000000\" points=\"637.5,-179.5 518.5,-179.5 518.5,-111.5 637.5,-111.5 637.5,-179.5\"/>\n<text text-anchor=\"middle\" x=\"578\" y=\"-164.3\" font-family=\"Helvetica,sans-Serif\" font-size=\"14.00\" fill=\"#000000\">entropy = 0.0</text>\n<text text-anchor=\"middle\" x=\"578\" y=\"-149.3\" font-family=\"Helvetica,sans-Serif\" font-size=\"14.00\" fill=\"#000000\">samples = 3</text>\n<text text-anchor=\"middle\" x=\"578\" y=\"-134.3\" font-family=\"Helvetica,sans-Serif\" font-size=\"14.00\" fill=\"#000000\">value = [0, 0, 3]</text>\n<text text-anchor=\"middle\" x=\"578\" y=\"-119.3\" font-family=\"Helvetica,sans-Serif\" font-size=\"14.00\" fill=\"#000000\">class = virginica</text>\n</g>\n<!-- 9&#45;&gt;13 -->\n<g id=\"edge13\" class=\"edge\">\n<title>9&#45;&gt;13</title>\n<path fill=\"none\" stroke=\"#000000\" d=\"M473.9602,-222.8796C490.1522,-210.8368 507.7927,-197.7167 523.8708,-185.7586\"/>\n<polygon fill=\"#000000\" stroke=\"#000000\" points=\"526.185,-188.3993 532.1203,-179.623 522.0075,-182.7825 526.185,-188.3993\"/>\n</g>\n<!-- 11 -->\n<g id=\"node12\" class=\"node\">\n<title>11</title>\n<polygon fill=\"none\" stroke=\"#000000\" points=\"401.5,-68 282.5,-68 282.5,0 401.5,0 401.5,-68\"/>\n<text text-anchor=\"middle\" x=\"342\" y=\"-52.8\" font-family=\"Helvetica,sans-Serif\" font-size=\"14.00\" fill=\"#000000\">entropy = 0.0</text>\n<text text-anchor=\"middle\" x=\"342\" y=\"-37.8\" font-family=\"Helvetica,sans-Serif\" font-size=\"14.00\" fill=\"#000000\">samples = 1</text>\n<text text-anchor=\"middle\" x=\"342\" y=\"-22.8\" font-family=\"Helvetica,sans-Serif\" font-size=\"14.00\" fill=\"#000000\">value = [0, 0, 1]</text>\n<text text-anchor=\"middle\" x=\"342\" y=\"-7.8\" font-family=\"Helvetica,sans-Serif\" font-size=\"14.00\" fill=\"#000000\">class = virginica</text>\n</g>\n<!-- 10&#45;&gt;11 -->\n<g id=\"edge11\" class=\"edge\">\n<title>10&#45;&gt;11</title>\n<path fill=\"none\" stroke=\"#000000\" d=\"M386.5622,-103.9815C380.944,-95.1585 375.0012,-85.8258 369.3497,-76.9506\"/>\n<polygon fill=\"#000000\" stroke=\"#000000\" points=\"372.1416,-74.8188 363.8181,-68.2637 366.2371,-78.5787 372.1416,-74.8188\"/>\n</g>\n<!-- 12 -->\n<g id=\"node13\" class=\"node\">\n<title>12</title>\n<polygon fill=\"none\" stroke=\"#000000\" points=\"548,-68 420,-68 420,0 548,0 548,-68\"/>\n<text text-anchor=\"middle\" x=\"484\" y=\"-52.8\" font-family=\"Helvetica,sans-Serif\" font-size=\"14.00\" fill=\"#000000\">entropy = 0.0</text>\n<text text-anchor=\"middle\" x=\"484\" y=\"-37.8\" font-family=\"Helvetica,sans-Serif\" font-size=\"14.00\" fill=\"#000000\">samples = 3</text>\n<text text-anchor=\"middle\" x=\"484\" y=\"-22.8\" font-family=\"Helvetica,sans-Serif\" font-size=\"14.00\" fill=\"#000000\">value = [0, 3, 0]</text>\n<text text-anchor=\"middle\" x=\"484\" y=\"-7.8\" font-family=\"Helvetica,sans-Serif\" font-size=\"14.00\" fill=\"#000000\">class = versicolor</text>\n</g>\n<!-- 10&#45;&gt;12 -->\n<g id=\"edge12\" class=\"edge\">\n<title>10&#45;&gt;12</title>\n<path fill=\"none\" stroke=\"#000000\" d=\"M439.4378,-103.9815C445.056,-95.1585 450.9988,-85.8258 456.6503,-76.9506\"/>\n<polygon fill=\"#000000\" stroke=\"#000000\" points=\"459.7629,-78.5787 462.1819,-68.2637 453.8584,-74.8188 459.7629,-78.5787\"/>\n</g>\n</g>\n</svg>\n"
     },
     "metadata": {},
     "execution_count": 29
    }
   ],
   "source": [
    "graph"
   ],
   "metadata": {
    "colab": {
     "base_uri": "https://localhost:8080/",
     "height": 916
    },
    "id": "8ccSXtnEfmrT",
    "executionInfo": {
     "status": "ok",
     "timestamp": 1667211055884,
     "user_tz": -300,
     "elapsed": 14,
     "user": {
      "displayName": "Anastasia Strueva",
      "userId": "02698906465328404867"
     }
    },
    "outputId": "7dc33872-0a83-41a9-c181-af0c46d21eda"
   }
  },
  {
   "cell_type": "code",
   "execution_count": 30,
   "outputs": [],
   "source": [
    "graph,accuracy=accuracy_tree(iris,test_sample=30, tree_type=\"DecisionTreeRegressor\",criterion=\"mse\")"
   ],
   "metadata": {
    "id": "JY5oBVsFfmrV",
    "executionInfo": {
     "status": "ok",
     "timestamp": 1667211059311,
     "user_tz": -300,
     "elapsed": 3,
     "user": {
      "displayName": "Anastasia Strueva",
      "userId": "02698906465328404867"
     }
    }
   }
  },
  {
   "cell_type": "code",
   "source": [
    "graph"
   ],
   "metadata": {
    "colab": {
     "base_uri": "https://localhost:8080/",
     "height": 796
    },
    "id": "B5MMaE6cggJO",
    "executionInfo": {
     "status": "ok",
     "timestamp": 1667211060848,
     "user_tz": -300,
     "elapsed": 10,
     "user": {
      "displayName": "Anastasia Strueva",
      "userId": "02698906465328404867"
     }
    },
    "outputId": "29bbd8c6-03cc-4bd6-8634-69f4e6f5898c"
   },
   "execution_count": 31,
   "outputs": [
    {
     "output_type": "execute_result",
     "data": {
      "text/plain": [
       "<graphviz.files.Source at 0x7fc1653e8e90>"
      ],
      "image/svg+xml": "<?xml version=\"1.0\" encoding=\"UTF-8\" standalone=\"no\"?>\n<!DOCTYPE svg PUBLIC \"-//W3C//DTD SVG 1.1//EN\"\n \"http://www.w3.org/Graphics/SVG/1.1/DTD/svg11.dtd\">\n<!-- Generated by graphviz version 2.40.1 (20161225.0304)\n -->\n<!-- Title: Tree Pages: 1 -->\n<svg width=\"397pt\" height=\"581pt\"\n viewBox=\"0.00 0.00 396.50 581.00\" xmlns=\"http://www.w3.org/2000/svg\" xmlns:xlink=\"http://www.w3.org/1999/xlink\">\n<g id=\"graph0\" class=\"graph\" transform=\"scale(1 1) rotate(0) translate(4 577)\">\n<title>Tree</title>\n<polygon fill=\"#ffffff\" stroke=\"transparent\" points=\"-4,4 -4,-577 392.5,-577 392.5,4 -4,4\"/>\n<!-- 0 -->\n<g id=\"node1\" class=\"node\">\n<title>0</title>\n<polygon fill=\"none\" stroke=\"#000000\" points=\"211,-573 49,-573 49,-505 211,-505 211,-573\"/>\n<text text-anchor=\"middle\" x=\"130\" y=\"-557.8\" font-family=\"Helvetica,sans-Serif\" font-size=\"14.00\" fill=\"#000000\">petal width (cm) &lt;= 0.8</text>\n<text text-anchor=\"middle\" x=\"130\" y=\"-542.8\" font-family=\"Helvetica,sans-Serif\" font-size=\"14.00\" fill=\"#000000\">mse = 0.674</text>\n<text text-anchor=\"middle\" x=\"130\" y=\"-527.8\" font-family=\"Helvetica,sans-Serif\" font-size=\"14.00\" fill=\"#000000\">samples = 120</text>\n<text text-anchor=\"middle\" x=\"130\" y=\"-512.8\" font-family=\"Helvetica,sans-Serif\" font-size=\"14.00\" fill=\"#000000\">value = 0.975</text>\n</g>\n<!-- 1 -->\n<g id=\"node2\" class=\"node\">\n<title>1</title>\n<polygon fill=\"none\" stroke=\"#000000\" points=\"105,-461.5 1,-461.5 1,-408.5 105,-408.5 105,-461.5\"/>\n<text text-anchor=\"middle\" x=\"53\" y=\"-446.3\" font-family=\"Helvetica,sans-Serif\" font-size=\"14.00\" fill=\"#000000\">mse = 0.0</text>\n<text text-anchor=\"middle\" x=\"53\" y=\"-431.3\" font-family=\"Helvetica,sans-Serif\" font-size=\"14.00\" fill=\"#000000\">samples = 42</text>\n<text text-anchor=\"middle\" x=\"53\" y=\"-416.3\" font-family=\"Helvetica,sans-Serif\" font-size=\"14.00\" fill=\"#000000\">value = 0.0</text>\n</g>\n<!-- 0&#45;&gt;1 -->\n<g id=\"edge1\" class=\"edge\">\n<title>0&#45;&gt;1</title>\n<path fill=\"none\" stroke=\"#000000\" d=\"M104.7873,-504.9465C96.4689,-493.7113 87.2073,-481.2021 78.8426,-469.9043\"/>\n<polygon fill=\"#000000\" stroke=\"#000000\" points=\"81.4148,-467.4965 72.6514,-461.5422 75.7889,-471.6618 81.4148,-467.4965\"/>\n<text text-anchor=\"middle\" x=\"68.9629\" y=\"-482.5686\" font-family=\"Helvetica,sans-Serif\" font-size=\"14.00\" fill=\"#000000\">True</text>\n</g>\n<!-- 2 -->\n<g id=\"node3\" class=\"node\">\n<title>2</title>\n<polygon fill=\"none\" stroke=\"#000000\" points=\"293,-469 123,-469 123,-401 293,-401 293,-469\"/>\n<text text-anchor=\"middle\" x=\"208\" y=\"-453.8\" font-family=\"Helvetica,sans-Serif\" font-size=\"14.00\" fill=\"#000000\">petal width (cm) &lt;= 1.75</text>\n<text text-anchor=\"middle\" x=\"208\" y=\"-438.8\" font-family=\"Helvetica,sans-Serif\" font-size=\"14.00\" fill=\"#000000\">mse = 0.25</text>\n<text text-anchor=\"middle\" x=\"208\" y=\"-423.8\" font-family=\"Helvetica,sans-Serif\" font-size=\"14.00\" fill=\"#000000\">samples = 78</text>\n<text text-anchor=\"middle\" x=\"208\" y=\"-408.8\" font-family=\"Helvetica,sans-Serif\" font-size=\"14.00\" fill=\"#000000\">value = 1.5</text>\n</g>\n<!-- 0&#45;&gt;2 -->\n<g id=\"edge2\" class=\"edge\">\n<title>0&#45;&gt;2</title>\n<path fill=\"none\" stroke=\"#000000\" d=\"M155.5401,-504.9465C162.1393,-496.1475 169.3246,-486.5672 176.2005,-477.3993\"/>\n<polygon fill=\"#000000\" stroke=\"#000000\" points=\"179.2025,-479.23 182.4025,-469.13 173.6025,-475.03 179.2025,-479.23\"/>\n<text text-anchor=\"middle\" x=\"185.938\" y=\"-490.1787\" font-family=\"Helvetica,sans-Serif\" font-size=\"14.00\" fill=\"#000000\">False</text>\n</g>\n<!-- 3 -->\n<g id=\"node4\" class=\"node\">\n<title>3</title>\n<polygon fill=\"none\" stroke=\"#000000\" points=\"217,-365 41,-365 41,-297 217,-297 217,-365\"/>\n<text text-anchor=\"middle\" x=\"129\" y=\"-349.8\" font-family=\"Helvetica,sans-Serif\" font-size=\"14.00\" fill=\"#000000\">petal length (cm) &lt;= 4.95</text>\n<text text-anchor=\"middle\" x=\"129\" y=\"-334.8\" font-family=\"Helvetica,sans-Serif\" font-size=\"14.00\" fill=\"#000000\">mse = 0.066</text>\n<text text-anchor=\"middle\" x=\"129\" y=\"-319.8\" font-family=\"Helvetica,sans-Serif\" font-size=\"14.00\" fill=\"#000000\">samples = 42</text>\n<text text-anchor=\"middle\" x=\"129\" y=\"-304.8\" font-family=\"Helvetica,sans-Serif\" font-size=\"14.00\" fill=\"#000000\">value = 1.071</text>\n</g>\n<!-- 2&#45;&gt;3 -->\n<g id=\"edge3\" class=\"edge\">\n<title>2&#45;&gt;3</title>\n<path fill=\"none\" stroke=\"#000000\" d=\"M182.1324,-400.9465C175.3804,-392.0578 168.0226,-382.3716 160.9941,-373.1188\"/>\n<polygon fill=\"#000000\" stroke=\"#000000\" points=\"163.7617,-370.976 154.9257,-365.13 158.1875,-375.2102 163.7617,-370.976\"/>\n</g>\n<!-- 10 -->\n<g id=\"node11\" class=\"node\">\n<title>10</title>\n<polygon fill=\"none\" stroke=\"#000000\" points=\"339,-357.5 235,-357.5 235,-304.5 339,-304.5 339,-357.5\"/>\n<text text-anchor=\"middle\" x=\"287\" y=\"-342.3\" font-family=\"Helvetica,sans-Serif\" font-size=\"14.00\" fill=\"#000000\">mse = 0.0</text>\n<text text-anchor=\"middle\" x=\"287\" y=\"-327.3\" font-family=\"Helvetica,sans-Serif\" font-size=\"14.00\" fill=\"#000000\">samples = 36</text>\n<text text-anchor=\"middle\" x=\"287\" y=\"-312.3\" font-family=\"Helvetica,sans-Serif\" font-size=\"14.00\" fill=\"#000000\">value = 2.0</text>\n</g>\n<!-- 2&#45;&gt;10 -->\n<g id=\"edge10\" class=\"edge\">\n<title>2&#45;&gt;10</title>\n<path fill=\"none\" stroke=\"#000000\" d=\"M233.8676,-400.9465C242.4857,-389.6012 252.0906,-376.9567 260.7383,-365.5724\"/>\n<polygon fill=\"#000000\" stroke=\"#000000\" points=\"263.5763,-367.6224 266.8382,-357.5422 258.0021,-363.3882 263.5763,-367.6224\"/>\n</g>\n<!-- 4 -->\n<g id=\"node5\" class=\"node\">\n<title>4</title>\n<polygon fill=\"none\" stroke=\"#000000\" points=\"104,-253.5 0,-253.5 0,-200.5 104,-200.5 104,-253.5\"/>\n<text text-anchor=\"middle\" x=\"52\" y=\"-238.3\" font-family=\"Helvetica,sans-Serif\" font-size=\"14.00\" fill=\"#000000\">mse = 0.0</text>\n<text text-anchor=\"middle\" x=\"52\" y=\"-223.3\" font-family=\"Helvetica,sans-Serif\" font-size=\"14.00\" fill=\"#000000\">samples = 37</text>\n<text text-anchor=\"middle\" x=\"52\" y=\"-208.3\" font-family=\"Helvetica,sans-Serif\" font-size=\"14.00\" fill=\"#000000\">value = 1.0</text>\n</g>\n<!-- 3&#45;&gt;4 -->\n<g id=\"edge4\" class=\"edge\">\n<title>3&#45;&gt;4</title>\n<path fill=\"none\" stroke=\"#000000\" d=\"M103.7873,-296.9465C95.4689,-285.7113 86.2073,-273.2021 77.8426,-261.9043\"/>\n<polygon fill=\"#000000\" stroke=\"#000000\" points=\"80.4148,-259.4965 71.6514,-253.5422 74.7889,-263.6618 80.4148,-259.4965\"/>\n</g>\n<!-- 5 -->\n<g id=\"node6\" class=\"node\">\n<title>5</title>\n<polygon fill=\"none\" stroke=\"#000000\" points=\"292,-261 122,-261 122,-193 292,-193 292,-261\"/>\n<text text-anchor=\"middle\" x=\"207\" y=\"-245.8\" font-family=\"Helvetica,sans-Serif\" font-size=\"14.00\" fill=\"#000000\">petal width (cm) &lt;= 1.55</text>\n<text text-anchor=\"middle\" x=\"207\" y=\"-230.8\" font-family=\"Helvetica,sans-Serif\" font-size=\"14.00\" fill=\"#000000\">mse = 0.24</text>\n<text text-anchor=\"middle\" x=\"207\" y=\"-215.8\" font-family=\"Helvetica,sans-Serif\" font-size=\"14.00\" fill=\"#000000\">samples = 5</text>\n<text text-anchor=\"middle\" x=\"207\" y=\"-200.8\" font-family=\"Helvetica,sans-Serif\" font-size=\"14.00\" fill=\"#000000\">value = 1.6</text>\n</g>\n<!-- 3&#45;&gt;5 -->\n<g id=\"edge5\" class=\"edge\">\n<title>3&#45;&gt;5</title>\n<path fill=\"none\" stroke=\"#000000\" d=\"M154.5401,-296.9465C161.1393,-288.1475 168.3246,-278.5672 175.2005,-269.3993\"/>\n<polygon fill=\"#000000\" stroke=\"#000000\" points=\"178.2025,-271.23 181.4025,-261.13 172.6025,-267.03 178.2025,-271.23\"/>\n</g>\n<!-- 6 -->\n<g id=\"node7\" class=\"node\">\n<title>6</title>\n<polygon fill=\"none\" stroke=\"#000000\" points=\"176.5,-149.5 81.5,-149.5 81.5,-96.5 176.5,-96.5 176.5,-149.5\"/>\n<text text-anchor=\"middle\" x=\"129\" y=\"-134.3\" font-family=\"Helvetica,sans-Serif\" font-size=\"14.00\" fill=\"#000000\">mse = 0.0</text>\n<text text-anchor=\"middle\" x=\"129\" y=\"-119.3\" font-family=\"Helvetica,sans-Serif\" font-size=\"14.00\" fill=\"#000000\">samples = 2</text>\n<text text-anchor=\"middle\" x=\"129\" y=\"-104.3\" font-family=\"Helvetica,sans-Serif\" font-size=\"14.00\" fill=\"#000000\">value = 2.0</text>\n</g>\n<!-- 5&#45;&gt;6 -->\n<g id=\"edge6\" class=\"edge\">\n<title>5&#45;&gt;6</title>\n<path fill=\"none\" stroke=\"#000000\" d=\"M181.4599,-192.9465C172.9509,-181.6012 163.4675,-168.9567 154.9293,-157.5724\"/>\n<polygon fill=\"#000000\" stroke=\"#000000\" points=\"157.7067,-155.4422 148.9066,-149.5422 152.1067,-159.6422 157.7067,-155.4422\"/>\n</g>\n<!-- 7 -->\n<g id=\"node8\" class=\"node\">\n<title>7</title>\n<polygon fill=\"none\" stroke=\"#000000\" points=\"375,-157 195,-157 195,-89 375,-89 375,-157\"/>\n<text text-anchor=\"middle\" x=\"285\" y=\"-141.8\" font-family=\"Helvetica,sans-Serif\" font-size=\"14.00\" fill=\"#000000\">sepal length (cm) &lt;= 6.95</text>\n<text text-anchor=\"middle\" x=\"285\" y=\"-126.8\" font-family=\"Helvetica,sans-Serif\" font-size=\"14.00\" fill=\"#000000\">mse = 0.222</text>\n<text text-anchor=\"middle\" x=\"285\" y=\"-111.8\" font-family=\"Helvetica,sans-Serif\" font-size=\"14.00\" fill=\"#000000\">samples = 3</text>\n<text text-anchor=\"middle\" x=\"285\" y=\"-96.8\" font-family=\"Helvetica,sans-Serif\" font-size=\"14.00\" fill=\"#000000\">value = 1.333</text>\n</g>\n<!-- 5&#45;&gt;7 -->\n<g id=\"edge7\" class=\"edge\">\n<title>5&#45;&gt;7</title>\n<path fill=\"none\" stroke=\"#000000\" d=\"M232.5401,-192.9465C239.1393,-184.1475 246.3246,-174.5672 253.2005,-165.3993\"/>\n<polygon fill=\"#000000\" stroke=\"#000000\" points=\"256.2025,-167.23 259.4025,-157.13 250.6025,-163.03 256.2025,-167.23\"/>\n</g>\n<!-- 8 -->\n<g id=\"node9\" class=\"node\">\n<title>8</title>\n<polygon fill=\"none\" stroke=\"#000000\" points=\"275.5,-53 180.5,-53 180.5,0 275.5,0 275.5,-53\"/>\n<text text-anchor=\"middle\" x=\"228\" y=\"-37.8\" font-family=\"Helvetica,sans-Serif\" font-size=\"14.00\" fill=\"#000000\">mse = 0.0</text>\n<text text-anchor=\"middle\" x=\"228\" y=\"-22.8\" font-family=\"Helvetica,sans-Serif\" font-size=\"14.00\" fill=\"#000000\">samples = 2</text>\n<text text-anchor=\"middle\" x=\"228\" y=\"-7.8\" font-family=\"Helvetica,sans-Serif\" font-size=\"14.00\" fill=\"#000000\">value = 1.0</text>\n</g>\n<!-- 7&#45;&gt;8 -->\n<g id=\"edge8\" class=\"edge\">\n<title>7&#45;&gt;8</title>\n<path fill=\"none\" stroke=\"#000000\" d=\"M264.9039,-88.9777C259.7656,-80.2786 254.227,-70.9018 249.0425,-62.1247\"/>\n<polygon fill=\"#000000\" stroke=\"#000000\" points=\"251.899,-60.0786 243.7996,-53.2485 245.8719,-63.6387 251.899,-60.0786\"/>\n</g>\n<!-- 9 -->\n<g id=\"node10\" class=\"node\">\n<title>9</title>\n<polygon fill=\"none\" stroke=\"#000000\" points=\"388.5,-53 293.5,-53 293.5,0 388.5,0 388.5,-53\"/>\n<text text-anchor=\"middle\" x=\"341\" y=\"-37.8\" font-family=\"Helvetica,sans-Serif\" font-size=\"14.00\" fill=\"#000000\">mse = 0.0</text>\n<text text-anchor=\"middle\" x=\"341\" y=\"-22.8\" font-family=\"Helvetica,sans-Serif\" font-size=\"14.00\" fill=\"#000000\">samples = 1</text>\n<text text-anchor=\"middle\" x=\"341\" y=\"-7.8\" font-family=\"Helvetica,sans-Serif\" font-size=\"14.00\" fill=\"#000000\">value = 2.0</text>\n</g>\n<!-- 7&#45;&gt;9 -->\n<g id=\"edge9\" class=\"edge\">\n<title>7&#45;&gt;9</title>\n<path fill=\"none\" stroke=\"#000000\" d=\"M304.7435,-88.9777C309.7917,-80.2786 315.2331,-70.9018 320.3266,-62.1247\"/>\n<polygon fill=\"#000000\" stroke=\"#000000\" points=\"323.4855,-63.6544 325.4776,-53.2485 317.4311,-60.1409 323.4855,-63.6544\"/>\n</g>\n</g>\n</svg>\n"
     },
     "metadata": {},
     "execution_count": 31
    }
   ]
  },
  {
   "cell_type": "markdown",
   "source": [
    "##Random Forest"
   ],
   "metadata": {
    "collapsed": false,
    "id": "4ySBlx4EfmrW"
   }
  },
  {
   "cell_type": "code",
   "execution_count": 32,
   "outputs": [],
   "source": [
    "forests={\n",
    "    \"RandomForestClassifier\":RandomForestClassifier, #based on entropy reduction\n",
    "    \"RandomForestRegressor\":RandomForestRegressor,\n",
    "}"
   ],
   "metadata": {
    "id": "ta6T-Y8bfmrW",
    "executionInfo": {
     "status": "ok",
     "timestamp": 1667211062189,
     "user_tz": -300,
     "elapsed": 4,
     "user": {
      "displayName": "Anastasia Strueva",
      "userId": "02698906465328404867"
     }
    }
   }
  },
  {
   "cell_type": "code",
   "execution_count": 33,
   "outputs": [],
   "source": [
    "class Forest(Tree):\n",
    "    def __init__(self,\n",
    "                 dataset,\n",
    "                 random_state=0,\n",
    "                 tree_type=\"RandomForestClassifier\",\n",
    "                 criterion=\"entropy\",\n",
    "                 max_features=\"sqrt\",\n",
    "                 bootstrap=True,\n",
    "                 n_estimators=100,\n",
    "                 ):\n",
    "\n",
    "        self.dataset = dataset\n",
    "        self._setVectors()\n",
    "\n",
    "        try:\n",
    "            self.model = forests.get(tree_type)(random_state=random_state,\n",
    "                                                criterion=criterion,\n",
    "                                                max_features=max_features,\n",
    "                                                bootstrap=bootstrap,\n",
    "                                                n_estimators=n_estimators,\n",
    "                                            )\n",
    "            self.model.fit(self.X,self.Y)\n",
    "        except:\n",
    "             sys.exit('Some error')\n"
   ],
   "metadata": {
    "id": "z1k7GHPhfmrX",
    "executionInfo": {
     "status": "ok",
     "timestamp": 1667211064993,
     "user_tz": -300,
     "elapsed": 6,
     "user": {
      "displayName": "Anastasia Strueva",
      "userId": "02698906465328404867"
     }
    }
   }
  },
  {
   "cell_type": "code",
   "execution_count": 36,
   "outputs": [],
   "source": [
    "from sklearn.model_selection import train_test_split\n",
    "def accuracy_forest(dataset,test_sample=0.2, tree_type=\"RandomForestClassifier\",criterion=\"entropy\",\n",
    "                 max_features=\"sqrt\",bootstrap=True,n_estimators=100,):\n",
    "\n",
    "    X=dataset.data\n",
    "    Y=dataset.target\n",
    "    X_train,X_test,Y_train,Y_test=train_test_split(X,Y,test_size=test_sample)\n",
    "    train_dataset=np.hstack((X_train,np.resize(Y_train,(len(Y_train),1))))\n",
    "\n",
    "    predict=Forest(train_dataset, tree_type=tree_type,criterion=criterion,\n",
    "                   max_features=max_features,bootstrap=bootstrap,n_estimators=n_estimators,)\n",
    "    #predict.plot_tree(dataset.feature_names,dataset.target_names)\n",
    "    #sys.exit()\n",
    "\n",
    "    \n",
    "    answer=predict.getPredict(X_test)\n",
    "    accuracy=sum(int(x == y) for (x, y) in zip(answer,Y_test))\n",
    "\n",
    "    return accuracy*100/len(X_test)\n"
   ],
   "metadata": {
    "id": "7ZT6SaVwfmrX",
    "executionInfo": {
     "status": "ok",
     "timestamp": 1667211134757,
     "user_tz": -300,
     "elapsed": 5,
     "user": {
      "displayName": "Anastasia Strueva",
      "userId": "02698906465328404867"
     }
    }
   }
  },
  {
   "cell_type": "code",
   "execution_count": 37,
   "outputs": [
    {
     "output_type": "execute_result",
     "data": {
      "text/plain": [
       "96.66666666666667"
      ]
     },
     "metadata": {},
     "execution_count": 37
    }
   ],
   "source": [
    "accuracy_forest(iris,tree_type=\"RandomForestClassifier\")"
   ],
   "metadata": {
    "colab": {
     "base_uri": "https://localhost:8080/"
    },
    "id": "NDkVYRQcfmrY",
    "executionInfo": {
     "status": "ok",
     "timestamp": 1667211138460,
     "user_tz": -300,
     "elapsed": 9,
     "user": {
      "displayName": "Anastasia Strueva",
      "userId": "02698906465328404867"
     }
    },
    "outputId": "ae5267c7-7de8-45b3-9142-77b80df04bd0"
   }
  },
  {
   "cell_type": "markdown",
   "source": [
    "##boosting"
   ],
   "metadata": {
    "collapsed": false,
    "id": "nUR8lxXYfmrY"
   }
  },
  {
   "cell_type": "code",
   "execution_count": null,
   "outputs": [],
   "source": [
    "boost={\n",
    "    \"AdaBoostRegressor\":AdaBoostRegressor, #based on entropy reduction\n",
    "    \"AdaBoostClassifier\":AdaBoostClassifier,\n",
    "}"
   ],
   "metadata": {
    "id": "5El02fIefmrZ"
   }
  },
  {
   "cell_type": "code",
   "execution_count": null,
   "outputs": [],
   "source": [
    "class Boosting(Tree):\n",
    "    def __init__(self,\n",
    "                 dataset,\n",
    "                 random_state=0,\n",
    "                 tree_type=\"AdaBoostClassifier\",\n",
    "                 n_estimators=50,\n",
    "                 loss=\"linear\",\n",
    "                 learning_rate=1.0,#float, default=1.0\n",
    "                 #{‘linear’, ‘square’, ‘exponential’}, default=’linear’\n",
    "                 ):\n",
    "\n",
    "        self.dataset = dataset\n",
    "        self._setVectors()\n",
    "\n",
    "        #try:\n",
    "        self.model = boost.get(tree_type)(random_state=random_state,\n",
    "                                              n_estimators=n_estimators,\n",
    "                                              learning_rate=learning_rate,\n",
    "                                              loss=loss\n",
    "                                              )\n",
    "        self.model.fit(self.X,self.Y)\n",
    "        #except:\n",
    "            #sys.exit()\n",
    "\n"
   ],
   "metadata": {
    "id": "gzycXDOifmrZ"
   }
  },
  {
   "cell_type": "code",
   "execution_count": null,
   "outputs": [],
   "source": [
    "from sklearn.model_selection import train_test_split\n",
    "def accuracy_boosting(dataset,test_sample=0.2, tree_type=\"AdaBoostRegressor\",\n",
    "                 n_estimators=50,loss=\"linear\",learning_rate=1.0,):\n",
    "\n",
    "    X=dataset.data\n",
    "    Y=dataset.target\n",
    "    X_train,X_test,Y_train,Y_test=train_test_split(X,Y,test_size=test_sample)\n",
    "    train_dataset=np.hstack((X_train,np.resize(Y_train,(len(Y_train),1))))\n",
    "\n",
    "    predict=Boosting(train_dataset, tree_type=tree_type,n_estimators=n_estimators,\n",
    "                   loss=loss,learning_rate=learning_rate,)\n",
    "    #predict.plot_tree(dataset.feature_names,dataset.target_names)\n",
    "    #sys.exit()\n",
    "\n",
    "    answer=predict.getPredict(X_test)\n",
    "    accuracy=sum(int(x == y) for (x, y) in zip(answer,Y_test))\n",
    "\n",
    "    return accuracy*100/len(X_test)"
   ],
   "metadata": {
    "id": "U2KUqFBafmra"
   }
  },
  {
   "cell_type": "code",
   "execution_count": null,
   "outputs": [
    {
     "data": {
      "text/plain": "86.66666666666667"
     },
     "execution_count": 235,
     "metadata": {},
     "output_type": "execute_result"
    }
   ],
   "source": [
    "accuracy_boosting(iris,tree_type=\"AdaBoostRegressor\")"
   ],
   "metadata": {
    "id": "T0Od1FM9fmra",
    "outputId": "f2efcc3f-250c-42b9-f322-a4123c378699"
   }
  }
 ],
 "metadata": {
  "kernelspec": {
   "display_name": "Python 3",
   "language": "python",
   "name": "python3"
  },
  "language_info": {
   "codemirror_mode": {
    "name": "ipython",
    "version": 2
   },
   "file_extension": ".py",
   "mimetype": "text/x-python",
   "name": "python",
   "nbconvert_exporter": "python",
   "pygments_lexer": "ipython2",
   "version": "2.7.6"
  },
  "colab": {
   "provenance": [],
   "collapsed_sections": []
  }
 },
 "nbformat": 4,
 "nbformat_minor": 0
}
