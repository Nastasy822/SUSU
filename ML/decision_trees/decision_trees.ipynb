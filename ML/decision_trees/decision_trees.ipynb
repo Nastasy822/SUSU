{
 "cells": [
  {
   "cell_type": "markdown",
   "source": [
    "##Libs"
   ],
   "metadata": {
    "collapsed": false
   }
  },
  {
   "cell_type": "code",
   "execution_count": 220,
   "metadata": {
    "collapsed": true
   },
   "outputs": [],
   "source": [
    "from sklearn.tree import DecisionTreeClassifier,DecisionTreeRegressor\n",
    "from sklearn.ensemble import RandomForestClassifier,RandomForestRegressor\n",
    "from sklearn.ensemble import AdaBoostClassifier,AdaBoostRegressor\n",
    "from sklearn.preprocessing import  StandardScaler\n",
    "import pandas as pd\n",
    "import numpy as np\n",
    "import sys\n",
    "\n",
    "\n",
    "import warnings\n",
    "warnings.filterwarnings('ignore')"
   ]
  },
  {
   "cell_type": "markdown",
   "source": [
    "##Load dataset"
   ],
   "metadata": {
    "collapsed": false
   }
  },
  {
   "cell_type": "code",
   "execution_count": 221,
   "outputs": [],
   "source": [
    "from sklearn.datasets import load_iris\n",
    "iris = load_iris()"
   ],
   "metadata": {
    "collapsed": false
   }
  },
  {
   "cell_type": "code",
   "execution_count": 222,
   "outputs": [],
   "source": [
    "##Decition Tree"
   ],
   "metadata": {
    "collapsed": false
   }
  },
  {
   "cell_type": "code",
   "execution_count": 223,
   "outputs": [],
   "source": [
    "trees={\n",
    "    \"DecisionTreeClassifier\":DecisionTreeClassifier, #based on entropy reduction\n",
    "    \"DecisionTreeRegressor\":DecisionTreeRegressor,\n",
    "}"
   ],
   "metadata": {
    "collapsed": false
   }
  },
  {
   "cell_type": "code",
   "execution_count": 224,
   "outputs": [],
   "source": [
    "class Tree():\n",
    "    def __init__(self,\n",
    "                 dataset,\n",
    "                 random_state=0,\n",
    "                 tree_type=\"DecisionTreeClassifier\",\n",
    "                 criterion=\"entropy\",\n",
    "                 ):\n",
    "\n",
    "        self.dataset = dataset\n",
    "        self._setVectors()\n",
    "\n",
    "        try:\n",
    "            self.model = trees.get(tree_type)(random_state=random_state,\n",
    "                                             criterion=criterion\n",
    "                                            )\n",
    "            self.model.fit(self.X,self.Y)\n",
    "        except:\n",
    "             sys.exit('Some error')\n",
    "\n",
    "    def _setVectors(self):\n",
    "        self.X=[np.array(value[:-1]) for value in self.dataset]\n",
    "        self.Y=[np.array(value[-1]) for value in self.dataset]\n",
    "\n",
    "        #scaler=StandardScaler()\n",
    "        #self.X=scaler.fit_transform(self.X)\n",
    "\n",
    "    def getPredict(self,X):\n",
    "        return self.model.predict(X)\n"
   ],
   "metadata": {
    "collapsed": false
   }
  },
  {
   "cell_type": "code",
   "execution_count": 225,
   "outputs": [],
   "source": [
    "from sklearn.model_selection import train_test_split\n",
    "def accuracy_tree(dataset,test_sample=30, tree_type=\"DecisionTreeClassifier\",criterion=\"entropy\"):\n",
    "\n",
    "    X=dataset.data\n",
    "    Y=dataset.target\n",
    "    X_train,X_test,Y_train,Y_test=train_test_split(X,Y,test_size=test_sample)\n",
    "    train_dataset=np.hstack((X_train,np.resize(Y_train,(len(Y_train),1))))\n",
    "\n",
    "    predict=Tree(train_dataset, tree_type=tree_type,criterion=criterion)\n",
    "\n",
    "    answer=predict.getPredict(X_test)\n",
    "    accuracy=sum(int(x == y) for (x, y) in zip(answer,Y_test))\n",
    "\n",
    "    return accuracy*100/len(X_test)"
   ],
   "metadata": {
    "collapsed": false
   }
  },
  {
   "cell_type": "code",
   "execution_count": 226,
   "outputs": [
    {
     "data": {
      "text/plain": "100.0"
     },
     "execution_count": 226,
     "metadata": {},
     "output_type": "execute_result"
    }
   ],
   "source": [
    "accuracy_tree(iris,test_sample=30, tree_type=\"DecisionTreeClassifier\",criterion=\"entropy\")"
   ],
   "metadata": {
    "collapsed": false
   }
  },
  {
   "cell_type": "code",
   "execution_count": 227,
   "outputs": [
    {
     "data": {
      "text/plain": "90.0"
     },
     "execution_count": 227,
     "metadata": {},
     "output_type": "execute_result"
    }
   ],
   "source": [
    "accuracy_tree(iris,test_sample=30, tree_type=\"DecisionTreeRegressor\",criterion=\"mse\")"
   ],
   "metadata": {
    "collapsed": false
   }
  },
  {
   "cell_type": "markdown",
   "source": [
    "##Random Forest"
   ],
   "metadata": {
    "collapsed": false
   }
  },
  {
   "cell_type": "code",
   "execution_count": 228,
   "outputs": [],
   "source": [
    "forests={\n",
    "    \"RandomForestClassifier\":RandomForestClassifier, #based on entropy reduction\n",
    "    \"RandomForestRegressor\":RandomForestRegressor,\n",
    "}"
   ],
   "metadata": {
    "collapsed": false
   }
  },
  {
   "cell_type": "code",
   "execution_count": 229,
   "outputs": [],
   "source": [
    "class Forest(Tree):\n",
    "    def __init__(self,\n",
    "                 dataset,\n",
    "                 random_state=0,\n",
    "                 tree_type=\"RandomForestClassifier\",\n",
    "                 criterion=\"entropy\",\n",
    "                 max_features=\"sqrt\",\n",
    "                 bootstrap=True,\n",
    "                 n_estimators=100,\n",
    "                 ):\n",
    "\n",
    "        self.dataset = dataset\n",
    "        self._setVectors()\n",
    "\n",
    "        try:\n",
    "            self.model = forests.get(tree_type)(random_state=random_state,\n",
    "                                                criterion=criterion,\n",
    "                                                max_features=max_features,\n",
    "                                                bootstrap=bootstrap,\n",
    "                                                n_estimators=n_estimators,\n",
    "                                            )\n",
    "            self.model.fit(self.X,self.Y)\n",
    "        except:\n",
    "             sys.exit('Some error')\n"
   ],
   "metadata": {
    "collapsed": false
   }
  },
  {
   "cell_type": "code",
   "execution_count": 230,
   "outputs": [],
   "source": [
    "from sklearn.model_selection import train_test_split\n",
    "def accuracy_forest(dataset,test_sample=0.2, tree_type=\"RandomForestClassifier\",criterion=\"entropy\",\n",
    "                 max_features=\"sqrt\",bootstrap=True,n_estimators=100,):\n",
    "\n",
    "    X=dataset.data\n",
    "    Y=dataset.target\n",
    "    X_train,X_test,Y_train,Y_test=train_test_split(X,Y,test_size=test_sample)\n",
    "    train_dataset=np.hstack((X_train,np.resize(Y_train,(len(Y_train),1))))\n",
    "\n",
    "    predict=Forest(train_dataset, tree_type=tree_type,criterion=criterion,\n",
    "                   max_features=max_features,bootstrap=bootstrap,n_estimators=n_estimators,)\n",
    "    #predict.plot_tree(dataset.feature_names,dataset.target_names)\n",
    "    #sys.exit()\n",
    "\n",
    "    answer=predict.getPredict(X_test)\n",
    "    accuracy=sum(int(x == y) for (x, y) in zip(answer,Y_test))\n",
    "\n",
    "    return accuracy*100/len(X_test)"
   ],
   "metadata": {
    "collapsed": false
   }
  },
  {
   "cell_type": "code",
   "execution_count": 231,
   "outputs": [
    {
     "data": {
      "text/plain": "96.66666666666667"
     },
     "execution_count": 231,
     "metadata": {},
     "output_type": "execute_result"
    }
   ],
   "source": [
    "accuracy_forest(iris,tree_type=\"RandomForestClassifier\")"
   ],
   "metadata": {
    "collapsed": false
   }
  },
  {
   "cell_type": "markdown",
   "source": [
    "##boosting"
   ],
   "metadata": {
    "collapsed": false
   }
  },
  {
   "cell_type": "code",
   "execution_count": 232,
   "outputs": [],
   "source": [
    "boost={\n",
    "    \"AdaBoostRegressor\":AdaBoostRegressor, #based on entropy reduction\n",
    "    \"AdaBoostClassifier\":AdaBoostClassifier,\n",
    "}"
   ],
   "metadata": {
    "collapsed": false
   }
  },
  {
   "cell_type": "code",
   "execution_count": 233,
   "outputs": [],
   "source": [
    "class Boosting(Tree):\n",
    "    def __init__(self,\n",
    "                 dataset,\n",
    "                 random_state=0,\n",
    "                 tree_type=\"AdaBoostClassifier\",\n",
    "                 n_estimators=50,\n",
    "                 loss=\"linear\",\n",
    "                 learning_rate=1.0,#float, default=1.0\n",
    "                 #{‘linear’, ‘square’, ‘exponential’}, default=’linear’\n",
    "                 ):\n",
    "\n",
    "        self.dataset = dataset\n",
    "        self._setVectors()\n",
    "\n",
    "        #try:\n",
    "        self.model = boost.get(tree_type)(random_state=random_state,\n",
    "                                              n_estimators=n_estimators,\n",
    "                                              learning_rate=learning_rate,\n",
    "                                              loss=loss\n",
    "                                              )\n",
    "        self.model.fit(self.X,self.Y)\n",
    "        #except:\n",
    "            #sys.exit()\n",
    "\n"
   ],
   "metadata": {
    "collapsed": false
   }
  },
  {
   "cell_type": "code",
   "execution_count": 234,
   "outputs": [],
   "source": [
    "from sklearn.model_selection import train_test_split\n",
    "def accuracy_boosting(dataset,test_sample=0.2, tree_type=\"AdaBoostRegressor\",\n",
    "                 n_estimators=50,loss=\"linear\",learning_rate=1.0,):\n",
    "\n",
    "    X=dataset.data\n",
    "    Y=dataset.target\n",
    "    X_train,X_test,Y_train,Y_test=train_test_split(X,Y,test_size=test_sample)\n",
    "    train_dataset=np.hstack((X_train,np.resize(Y_train,(len(Y_train),1))))\n",
    "\n",
    "    predict=Boosting(train_dataset, tree_type=tree_type,n_estimators=n_estimators,\n",
    "                   loss=loss,learning_rate=learning_rate,)\n",
    "    #predict.plot_tree(dataset.feature_names,dataset.target_names)\n",
    "    #sys.exit()\n",
    "\n",
    "    answer=predict.getPredict(X_test)\n",
    "    accuracy=sum(int(x == y) for (x, y) in zip(answer,Y_test))\n",
    "\n",
    "    return accuracy*100/len(X_test)"
   ],
   "metadata": {
    "collapsed": false
   }
  },
  {
   "cell_type": "code",
   "execution_count": 235,
   "outputs": [
    {
     "data": {
      "text/plain": "86.66666666666667"
     },
     "execution_count": 235,
     "metadata": {},
     "output_type": "execute_result"
    }
   ],
   "source": [
    "accuracy_boosting(iris,tree_type=\"AdaBoostRegressor\")"
   ],
   "metadata": {
    "collapsed": false
   }
  }
 ],
 "metadata": {
  "kernelspec": {
   "display_name": "Python 3",
   "language": "python",
   "name": "python3"
  },
  "language_info": {
   "codemirror_mode": {
    "name": "ipython",
    "version": 2
   },
   "file_extension": ".py",
   "mimetype": "text/x-python",
   "name": "python",
   "nbconvert_exporter": "python",
   "pygments_lexer": "ipython2",
   "version": "2.7.6"
  }
 },
 "nbformat": 4,
 "nbformat_minor": 0
}
