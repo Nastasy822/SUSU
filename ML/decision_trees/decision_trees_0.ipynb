{
 "cells": [
  {
   "cell_type": "markdown",
   "source": [
    "##Decision trees"
   ],
   "metadata": {
    "collapsed": false
   }
  },
  {
   "cell_type": "code",
   "execution_count": 7,
   "outputs": [],
   "source": [
    "from typing import NamedTuple,Optional"
   ],
   "metadata": {
    "collapsed": false
   }
  },
  {
   "cell_type": "code",
   "execution_count": 41,
   "metadata": {
    "collapsed": true
   },
   "outputs": [],
   "source": [
    "class Candidate(NamedTuple):\n",
    "    level:str\n",
    "    lang:str\n",
    "    tweets:bool\n",
    "    phd:bool\n",
    "    did_well:Optional[bool]=None"
   ]
  },
  {
   "cell_type": "code",
   "execution_count": 40,
   "outputs": [],
   "source": [
    "dataset=[Candidate('Senior','Java',False,False,False),\n",
    "         Candidate('Senior','Java',False,True,False),\n",
    "         Candidate('Mid','Python',False,False,True),\n",
    "         Candidate('Junior','Python',False,False,True),\n",
    "         Candidate('Junior','R',True,False,True),\n",
    "         Candidate('Junior','R',True,True,False),\n",
    "         Candidate('Mid','R',True,True,True),\n",
    "         Candidate('Senior','Python',False,False,False),\n",
    "         Candidate('Senior','R',True,False,True),\n",
    "         Candidate('Junior','Python',True,False,True),\n",
    "         Candidate('Senior','Python',True,True,True),\n",
    "         Candidate('Mid','Python',False,True,True),\n",
    "         Candidate('Mid','Java',True,False,True),\n",
    "         Candidate('Junior','Python',False,True,False),\n",
    "]"
   ],
   "metadata": {
    "collapsed": false
   }
  },
  {
   "cell_type": "code",
   "execution_count": 25,
   "outputs": [],
   "source": [
    "from typing import Dict,TypeVar,Any,List\n",
    "from  collections import  defaultdict,Counter\n",
    "import math"
   ],
   "metadata": {
    "collapsed": false
   }
  },
  {
   "cell_type": "code",
   "execution_count": 46,
   "outputs": [],
   "source": [
    "T=TypeVar(\"T\")\n",
    "\n",
    "def entropy(class_probabilities:List[float])->float:\n",
    "    return sum(-p*math.log(p,2)\n",
    "               for p in class_probabilities\n",
    "               if p>0)\n",
    "\n",
    "def class_probabilities(labels:List[Any])-> List[float]:\n",
    "    total_count=len(labels)\n",
    "    return [count/total_count\n",
    "            for count in Counter(labels).values()]\n",
    "\n",
    "def data_entropy(labels:List[Any])->float:\n",
    "    return entropy(class_probabilities(labels))\n",
    "\n",
    "def partition_entropy(subsets:List[List[Any]])->float:\n",
    "    total_count=sum(len(subset) for subset in subsets)\n",
    "\n",
    "    return  sum(data_entropy(subset)*len(subsets)/total_count\n",
    "                for subset in subsets)\n",
    "\n",
    "def partition_by(inputs:List[T],attribute:str)->Dict[Any,List[T]]:\n",
    "    partitions: Dict[Any,List[T]]=defaultdict(list)\n",
    "    for input in inputs:\n",
    "        key=getattr(input,attribute)\n",
    "        partitions[key].append(input)\n",
    "    return partitions\n",
    "\n",
    "def partition_entropy_by(inputs:List[Any],attribute:str,label_attribute:str)->float:\n",
    "    partitions=partition_by(inputs,attribute)\n",
    "    labels=[[getattr(input,label_attribute) for input in partition]\n",
    "            for partition in partitions.values()]\n",
    "\n",
    "    return partition_entropy(labels)\n"
   ],
   "metadata": {
    "collapsed": false
   }
  },
  {
   "cell_type": "code",
   "execution_count": 34,
   "outputs": [
    {
     "name": "stdout",
     "output_type": "stream",
     "text": [
      "dict_values([1, 3])\n"
     ]
    },
    {
     "data": {
      "text/plain": "0.8112781244591328"
     },
     "execution_count": 34,
     "metadata": {},
     "output_type": "execute_result"
    }
   ],
   "source": [
    "data_entropy([3,4,4,4])"
   ],
   "metadata": {
    "collapsed": false
   }
  },
  {
   "cell_type": "code",
   "execution_count": 47,
   "outputs": [
    {
     "name": "stdout",
     "output_type": "stream",
     "text": [
      "level 0.4161216833377151\n",
      "lang 0.5555773986600543\n",
      "tweets 0.22527155923093986\n",
      "phd 0.2587540177798761\n"
     ]
    }
   ],
   "source": [
    "for key in ['level','lang','tweets','phd']:\n",
    "    print(key,partition_entropy_by(dataset,key,'did_well'))"
   ],
   "metadata": {
    "collapsed": false
   }
  },
  {
   "cell_type": "code",
   "execution_count": 43,
   "outputs": [],
   "source": [
    "senior_inputs=[input for input in dataset if input.level ==\"Senior\"]"
   ],
   "metadata": {
    "collapsed": false
   }
  },
  {
   "cell_type": "code",
   "execution_count": 44,
   "outputs": [],
   "source": [
    "from typing import NamedTuple,Union,Any\n",
    "\n",
    "class Leaf(NamedTuple):\n",
    "    value:Any\n",
    "\n",
    "class Split(NamedTuple):\n",
    "    attribut:str\n",
    "    subtrees:dict\n",
    "    default_value:Any=None\n",
    "\n",
    "DecisionTree=Union[Leaf,Split]"
   ],
   "metadata": {
    "collapsed": false
   }
  },
  {
   "cell_type": "code",
   "execution_count": 57,
   "outputs": [],
   "source": [
    "hiring_tree=Split('level',{\n",
    "    'Junior':Split('phd',{\n",
    "        False:Leaf(True),\n",
    "        True:Leaf(False)\n",
    "    }),\n",
    "    'Mid':Leaf(True),\n",
    "    'Senior':Split('tweets',{\n",
    "        False:Leaf(False),\n",
    "        True:Leaf(True)\n",
    "    })\n",
    "\n",
    "})\n",
    "\n",
    "def classify(tree:DecisionTree,input:Any)->Any:\n",
    "    if isinstance(tree,Leaf):\n",
    "        return tree.value\n",
    "\n",
    "    subtree_key=getattr(input,tree.attribut)\n",
    "\n",
    "    if subtree_key not in tree.subtrees:\n",
    "        return tree.default_value\n",
    "\n",
    "    subtree=tree.subtrees[subtree_key]\n",
    "\n",
    "    return classify(subtree,input)\n",
    "\n",
    "\n",
    "def build_tree_id3(inputs:List[Any],\n",
    "                   split_attributes:List[str],\n",
    "                   target_attribute:str)-> DecisionTree:\n",
    "    label_counts=Counter(getattr(input,target_attribute)\n",
    "                         for input in inputs)\n",
    "\n",
    "    most_common_label=label_counts.most_common(1)[0][0]\n",
    "\n",
    "    if len(label_counts)==1:\n",
    "        return Leaf(most_common_label)\n",
    "\n",
    "    if not split_attributes:\n",
    "        return Leaf(most_common_label)\n",
    "\n",
    "    def split_entropy(attribute:str)->float:\n",
    "        return partition_entropy_by(inputs,attribute,target_attribute)\n",
    "\n",
    "    best_attribute=min(split_attributes,key=split_entropy)\n",
    "\n",
    "    partitions=partition_by(inputs,best_attribute)\n",
    "\n",
    "    new_attribute=[a for a in split_attributes if a!= best_attribute]\n",
    "\n",
    "    subtrees={attribute_value:build_tree_id3(subset,\n",
    "                                             new_attribute,\n",
    "                                             target_attribute)\n",
    "              for attribute_value,subset in partitions.items()\n",
    "\n",
    "    }\n",
    "\n",
    "    return  Split(best_attribute,subtrees,\n",
    "                  default_value=most_common_label)"
   ],
   "metadata": {
    "collapsed": false
   }
  },
  {
   "cell_type": "code",
   "execution_count": 54,
   "outputs": [],
   "source": [
    "tree=build_tree_id3(dataset,['level','lang','tweets','phd'],'did_well')"
   ],
   "metadata": {
    "collapsed": false
   }
  },
  {
   "cell_type": "code",
   "execution_count": 56,
   "outputs": [
    {
     "data": {
      "text/plain": "False"
     },
     "execution_count": 56,
     "metadata": {},
     "output_type": "execute_result"
    }
   ],
   "source": [
    "classify(tree,Candidate('Junior','R',True,True))"
   ],
   "metadata": {
    "collapsed": false
   }
  }
 ],
 "metadata": {
  "kernelspec": {
   "display_name": "Python 3",
   "language": "python",
   "name": "python3"
  },
  "language_info": {
   "codemirror_mode": {
    "name": "ipython",
    "version": 2
   },
   "file_extension": ".py",
   "mimetype": "text/x-python",
   "name": "python",
   "nbconvert_exporter": "python",
   "pygments_lexer": "ipython2",
   "version": "2.7.6"
  }
 },
 "nbformat": 4,
 "nbformat_minor": 0
}
