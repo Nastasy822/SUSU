{
 "nbformat": 4,
 "nbformat_minor": 0,
 "metadata": {
  "colab": {
   "provenance": [
    {
     "file_id": "1sCAcIGk2q9dL8dpFYddnsUin2MlhjaRw",
     "timestamp": 1662456295652
    }
   ],
   "collapsed_sections": []
  },
  "kernelspec": {
   "name": "python3",
   "display_name": "Python 3"
  },
  "gpuClass": "standard"
 },
 "cells": [
  {
   "cell_type": "markdown",
   "source": [
    "Задача классификации. Логистическая регрессия. Проблема переобучения. Регуляризация"
   ],
   "metadata": {
    "id": "eTu9uW0rS_-M"
   }
  },
  {
   "cell_type": "markdown",
   "source": [
    "##univariate linear regression\n"
   ],
   "metadata": {
    "id": "14pX8Xg_FpS8"
   }
  },
  {
   "cell_type": "code",
   "execution_count": 1,
   "outputs": [],
   "source": [
    "import numpy as np\n",
    "import scipy.optimize as opt\n",
    "import sys\n",
    "from sympy.solvers import solve\n",
    "from sympy import symbols,sympify,lambdify\n",
    "import matplotlib.pyplot as plt\n",
    "import sympy\n",
    "from tqdm import tqdm\n",
    "import cv2\n",
    "import imutils\n",
    "import pandas as pd\n",
    "\n",
    "\n",
    "import warnings\n",
    "warnings.filterwarnings('ignore')"
   ],
   "metadata": {
    "collapsed": false
   }
  },
  {
   "cell_type": "code",
   "execution_count": 2,
   "outputs": [],
   "source": [
    "def sigmoid(z):\n",
    "      return 1/(1+np.exp(-z))"
   ],
   "metadata": {
    "collapsed": false
   }
  },
  {
   "cell_type": "code",
   "execution_count": 80,
   "outputs": [],
   "source": [
    "class LossFunction:\n",
    "  @staticmethod\n",
    "  def cross_entropy(theta, X, y,lam):\n",
    "    hThetaX = sigmoid(np.dot(X, theta))\n",
    "    y=np.resize(y,(1,len(y)))[0]\n",
    "    cross_entropy = - (np.dot(y, np.log(hThetaX)) + np.dot((1 - y), np.log(1 - hThetaX))) / len(y)\n",
    "\n",
    "    regularization=(hThetaX**2)*(lam/(2*len(y)))\n",
    "    cross_entropy+=regularization[0]\n",
    "\n",
    "    return cross_entropy\n",
    "\n",
    "  @staticmethod\n",
    "  def cross_entropy_prime(theta,X, y,lam):\n",
    "    hThetaX = sigmoid(np.dot(X, theta))\n",
    "    gradient =  np.dot(X.T, (hThetaX - y)) / len(y)\n",
    "\n",
    "    regularization=(theta*lam)/(len(y))\n",
    "    gradient+=regularization[0]\n",
    "\n",
    "    return gradient\n"
   ],
   "metadata": {
    "collapsed": false
   }
  },
  {
   "cell_type": "code",
   "source": [
    "class LogisticRegression:\n",
    "  def __init__(self,data,classes,degree_polynomial=1,lam=0):\n",
    "    self.data=data.copy()\n",
    "    self.matrix_dimension=len(data.columns)\n",
    "    self.classes=classes\n",
    "    self.lam=lam\n",
    "    self.degree_polynomial=degree_polynomial\n",
    "\n",
    "    self.create_string_function(self.degree_polynomial)\n",
    "\n",
    "    self.setVectors()\n",
    "\n",
    "\n",
    "  def drawGraph(self,x_size=7,y_size=5,soluthion=False):\n",
    "    plt.figure(figsize=(x_size, y_size))\n",
    "\n",
    "    data0=self.data.loc[self.data[self.data.columns[2]] == 0] \n",
    "    data1=self.data.loc[self.data[self.data.columns[2]] == 1]\n",
    "\n",
    "    plt.plot(data0[data0.columns[0]],\n",
    "             data0[data0.columns[1]],\n",
    "             label = self.classes[0],color=\"r\" ,marker='x',linestyle='none')\n",
    "    \n",
    "    plt.plot(data1[data1.columns[0]],\n",
    "             data1[data1.columns[1]],\n",
    "             label = self.classes[1],color=\"b\" ,marker='o',linestyle='none')\n",
    "    \n",
    "    if soluthion:\n",
    "      x1=(self.data[self.data.columns[1]]).tolist()\n",
    "      x1.sort()\n",
    "      x2=self.count_string_function(x1)\n",
    "      x1,x2=self.delete_coords_without_roots(x1,x2)\n",
    "      plt.plot(x1, x2,color=\"y\",marker='o',linestyle='none',markersize=2)\n",
    "\n",
    "    plt.xlabel(self.data.columns[0]), plt.ylabel(self.data.columns[1])\n",
    "    plt.legend()\n",
    "    plt.show()\n",
    "\n",
    "  def getPredict(self,dataset):\n",
    "    function = sympify(self.string_function)\n",
    "    for number_k in range(len(self.theta)):\n",
    "          kn=symbols('k{}'.format(number_k))\n",
    "          function=function.subs({kn:self.theta[number_k]})\n",
    "\n",
    "    x1,x2 = symbols('x1, x2')\n",
    "    predict=[]\n",
    "    for data in dataset:\n",
    "      function_copy=function.subs({x1:data[0],x2:data[1]})\n",
    "      predict.append(0 if function_copy<0 else 1)\n",
    "    return predict\n",
    "\n",
    "  def get_tranclation_predict(self,data):\n",
    "    result=self.getPredict(data)\n",
    "    return [self.classes[int(i)] for i in result]\n",
    "\n",
    "  def create_string_function(self,degree_polynomial):\n",
    "      string_function='k0'\n",
    "      k_n=1\n",
    "      for degree_polynomial in range(1,degree_polynomial+1):\n",
    "        n_x1,n_x2=degree_polynomial,0\n",
    "        while n_x2<=degree_polynomial:\n",
    "          string_function+='+k{}*(x1**{})*(x2**{})'.format(k_n,n_x1,n_x2)\n",
    "          n_x1-=1\n",
    "          n_x2+=1\n",
    "          k_n+=1\n",
    "      self.string_function=string_function\n",
    "\n",
    "  def count_string_function(self,x1_real):\n",
    "\n",
    "    function = sympify(self.string_function)\n",
    "\n",
    "    for number_k in range(len(self.theta)):\n",
    "        kn=symbols('k{}'.format(number_k))\n",
    "        function=function.subs({kn:self.theta[number_k]})\n",
    "\n",
    "    x1,x2 = symbols('x1, x2')\n",
    "\n",
    "    print(\"Coords calculation\")\n",
    "    x2_real=[] #roots can be greater than 1 at higher powers of the equation\n",
    "    for x in tqdm(x1_real):\n",
    "      function_copy=function.subs({x1:x})\n",
    "      roots = solve(function_copy, x2)\n",
    "      roots=[root for root in roots if (type(root)!=sympy.core.add.Add)]\n",
    "      x2_real.append(roots)\n",
    "\n",
    "    #x2_real = lambdify([x1], solve(function, x2), \"numpy\")\n",
    "    #x2_real=np.resize(x2_real,(len(x1_real),1))\n",
    "    return x2_real\n",
    "\n",
    "  def delete_coords_without_roots(self,x1,x2):\n",
    "    x1_transform,x2_transform=[],[]\n",
    "\n",
    "    for index_x,roots in enumerate(x2):\n",
    "      for root in roots:\n",
    "          x2_transform.append(root)\n",
    "          x1_transform.append(x1[index_x])\n",
    "\n",
    "    return x1_transform,x2_transform\n",
    "\n",
    "  def setVectors(self):\n",
    "    self.X=self.getX()\n",
    "    self.Y = np.array(self.data[self.data.columns[-1:]])\n",
    "\n",
    "    self.matrix_dimension=len(self.X[0])\n",
    "    self.theta=np.resize(np.array([0 for _ in range(self.matrix_dimension)]),(self.matrix_dimension,1))\n",
    "\n",
    "\n",
    "  def getX(self):\n",
    "    self.x1 = np.array(self.data[self.data.columns[0]])\n",
    "    self.x2 = np.array(self.data[self.data.columns[1]])\n",
    "\n",
    "    polyvalent=[]\n",
    "    for degree_polynomial in range(0,self.degree_polynomial+1):\n",
    "      polyvalent+=(LogisticRegression.one_binomial_newton(degree_polynomial,self.x1,self.x2))\n",
    "    polyvalent=np.hstack((polyvalent[i] for i in range (len(polyvalent))))\n",
    "\n",
    "    return polyvalent\n",
    "\n",
    "  @staticmethod\n",
    "  def one_binomial_newton(n,x1,x2):\n",
    "    polyvalent=[]\n",
    "    if n==0:\n",
    "      polyvalent.append(np.ones((len(x1),1)))\n",
    "    else:\n",
    "      n_x1,n_x2=n,0\n",
    "      while n_x2<=n:\n",
    "        polyvalent.append(np.resize((x1**n_x1)*(x2**(n_x2)),(len(x1),1)))\n",
    "        n_x1-=1\n",
    "        n_x2+=1\n",
    "    return polyvalent\n",
    "\n",
    "  def gradientDescent(self):\n",
    "    y=np.resize(self.Y,(1,len(self.Y)))[0]\n",
    "    result = opt.fmin_tnc(func = LossFunction.cross_entropy,            #метода Ньютона сопряженных градиентов\n",
    "                          x0 = self.theta,\n",
    "                          fprime = LossFunction.cross_entropy_prime,\n",
    "                          args = (self.X, y,self.lam))\n",
    "    theta_optimized = result[0]\n",
    "    self.theta=theta_optimized\n",
    "\n",
    "  def accuracy(self):\n",
    "    test_y=self.getPredict(np.array(self.data[self.data.columns[:-1]]))\n",
    "    train_y=np.resize(self.Y,(1,len(self.Y)))[0]\n",
    "    accuracy=0\n",
    "    for i in range(len(train_y)):\n",
    "      accuracy+=abs(test_y[i]-train_y[i])\n",
    "    accuracy=(1-accuracy/len(train_y))*100\n",
    "\n",
    "    return accuracy"
   ],
   "metadata": {
    "id": "c7a9mYxdC9_O",
    "executionInfo": {
     "status": "ok",
     "timestamp": 1663780056948,
     "user_tz": -300,
     "elapsed": 3,
     "user": {
      "displayName": "Anastasia Strueva",
      "userId": "02698906465328404867"
     }
    }
   },
   "execution_count": 90,
   "outputs": []
  },
  {
   "cell_type": "code",
   "source": [
    "data_exam = pd.read_csv(\"ex2data1.txt\", header=None)\n",
    "data_exam.column=['Exam1_score','Exam2_score','res']\n",
    "data_exam.head(5)"
   ],
   "metadata": {
    "colab": {
     "base_uri": "https://localhost:8080/",
     "height": 261
    },
    "id": "GuvNQdn9B5PN",
    "executionInfo": {
     "status": "ok",
     "timestamp": 1663779849382,
     "user_tz": -300,
     "elapsed": 982,
     "user": {
      "displayName": "Anastasia Strueva",
      "userId": "02698906465328404867"
     }
    },
    "outputId": "4304c41c-410b-4555-baf3-88357fca0a73"
   },
   "execution_count": 85,
   "outputs": [
    {
     "data": {
      "text/plain": "           0          1  2\n0  34.623660  78.024693  0\n1  30.286711  43.894998  0\n2  35.847409  72.902198  0\n3  60.182599  86.308552  1\n4  79.032736  75.344376  1",
      "text/html": "<div>\n<style scoped>\n    .dataframe tbody tr th:only-of-type {\n        vertical-align: middle;\n    }\n\n    .dataframe tbody tr th {\n        vertical-align: top;\n    }\n\n    .dataframe thead th {\n        text-align: right;\n    }\n</style>\n<table border=\"1\" class=\"dataframe\">\n  <thead>\n    <tr style=\"text-align: right;\">\n      <th></th>\n      <th>0</th>\n      <th>1</th>\n      <th>2</th>\n    </tr>\n  </thead>\n  <tbody>\n    <tr>\n      <th>0</th>\n      <td>34.623660</td>\n      <td>78.024693</td>\n      <td>0</td>\n    </tr>\n    <tr>\n      <th>1</th>\n      <td>30.286711</td>\n      <td>43.894998</td>\n      <td>0</td>\n    </tr>\n    <tr>\n      <th>2</th>\n      <td>35.847409</td>\n      <td>72.902198</td>\n      <td>0</td>\n    </tr>\n    <tr>\n      <th>3</th>\n      <td>60.182599</td>\n      <td>86.308552</td>\n      <td>1</td>\n    </tr>\n    <tr>\n      <th>4</th>\n      <td>79.032736</td>\n      <td>75.344376</td>\n      <td>1</td>\n    </tr>\n  </tbody>\n</table>\n</div>"
     },
     "execution_count": 85,
     "metadata": {},
     "output_type": "execute_result"
    }
   ]
  },
  {
   "cell_type": "code",
   "source": [
    "predict=LogisticRegression(data_exam,\n",
    "                         classes=[\"Not admitted\",\"Admitted\"],\n",
    "                         degree_polynomial=1\n",
    "                         )\n",
    "print(predict.string_function)\n",
    "predict.drawGraph()\n",
    "\n",
    "print('F({})={}'.format(list(predict.theta),LossFunction.cross_entropy(predict.theta,predict.X, predict.Y,0)[0]))\n",
    "print(\"F'({})=({})\".format(list(predict.theta),list(LossFunction.cross_entropy_prime(predict.theta,predict.X, predict.Y,0))))\n",
    "\n",
    "predict.gradientDescent()\n",
    "print('theta={}'.format(list(predict.theta)))\n",
    "predict.drawGraph(soluthion=True)\n",
    "\n",
    "x1,x2=45,85\n",
    "print('student with points {} and {} was {} in university'.format(x1,x2,predict.get_tranclation_predict([[x1,x2]])[0]\n",
    "                                                                  ))\n",
    "print('accuracy={}'.format(predict.accuracy()))\n"
   ],
   "metadata": {
    "colab": {
     "base_uri": "https://localhost:8080/",
     "height": 738
    },
    "id": "A3s7BpOsDKoW",
    "executionInfo": {
     "status": "ok",
     "timestamp": 1663780424842,
     "user_tz": -300,
     "elapsed": 687,
     "user": {
      "displayName": "Anastasia Strueva",
      "userId": "02698906465328404867"
     }
    },
    "outputId": "597c352f-cda9-433c-d315-d7626fb2ec6e"
   },
   "execution_count": 91,
   "outputs": [
    {
     "name": "stdout",
     "output_type": "stream",
     "text": [
      "k0+k1*(x1**1)*(x2**0)+k2*(x1**0)*(x2**1)\n"
     ]
    },
    {
     "data": {
      "text/plain": "<Figure size 504x360 with 1 Axes>",
      "image/png": "[encoded data removed]"
     },
     "metadata": {
      "needs_background": "light"
     },
     "output_type": "display_data"
    },
    {
     "name": "stdout",
     "output_type": "stream",
     "text": [
      "F([array([0]), array([0]), array([0])])=0.6931471805599453\n",
      "F'([array([0]), array([0]), array([0])])=([array([-0.1]), array([-12.00921659]), array([-11.26284221])])\n",
      "theta=[-25.161318638875745, 0.2062315889914217, 0.20147148602481324]\n",
      "Coords calculation\n"
     ]
    },
    {
     "name": "stderr",
     "output_type": "stream",
     "text": [
      "100%|██████████| 100/100 [00:05<00:00, 17.06it/s]\n"
     ]
    },
    {
     "data": {
      "text/plain": "<Figure size 504x360 with 1 Axes>",
      "image/png": "[encoded data removed]"
     },
     "metadata": {
      "needs_background": "light"
     },
     "output_type": "display_data"
    },
    {
     "name": "stdout",
     "output_type": "stream",
     "text": [
      "student with points 45 and 85 was Admitted in university\n",
      "accuracy=89.0\n"
     ]
    }
   ]
  },
  {
   "cell_type": "markdown",
   "source": [
    "Получили границу решения, разделяющие классы"
   ],
   "metadata": {
    "collapsed": false
   }
  },
  {
   "cell_type": "code",
   "execution_count": 92,
   "outputs": [
    {
     "data": {
      "text/plain": "          0        1  2\n0  0.051267  0.69956  1\n1 -0.092742  0.68494  1\n2 -0.213710  0.69225  1\n3 -0.375000  0.50219  1\n4 -0.513250  0.46564  1",
      "text/html": "<div>\n<style scoped>\n    .dataframe tbody tr th:only-of-type {\n        vertical-align: middle;\n    }\n\n    .dataframe tbody tr th {\n        vertical-align: top;\n    }\n\n    .dataframe thead th {\n        text-align: right;\n    }\n</style>\n<table border=\"1\" class=\"dataframe\">\n  <thead>\n    <tr style=\"text-align: right;\">\n      <th></th>\n      <th>0</th>\n      <th>1</th>\n      <th>2</th>\n    </tr>\n  </thead>\n  <tbody>\n    <tr>\n      <th>0</th>\n      <td>0.051267</td>\n      <td>0.69956</td>\n      <td>1</td>\n    </tr>\n    <tr>\n      <th>1</th>\n      <td>-0.092742</td>\n      <td>0.68494</td>\n      <td>1</td>\n    </tr>\n    <tr>\n      <th>2</th>\n      <td>-0.213710</td>\n      <td>0.69225</td>\n      <td>1</td>\n    </tr>\n    <tr>\n      <th>3</th>\n      <td>-0.375000</td>\n      <td>0.50219</td>\n      <td>1</td>\n    </tr>\n    <tr>\n      <th>4</th>\n      <td>-0.513250</td>\n      <td>0.46564</td>\n      <td>1</td>\n    </tr>\n  </tbody>\n</table>\n</div>"
     },
     "execution_count": 92,
     "metadata": {},
     "output_type": "execute_result"
    }
   ],
   "source": [
    "microchips = pd.read_csv(\"ex2data2.txt\", header=None)\n",
    "microchips.column=['test1','test2','res']  #Accepted','Regected\n",
    "microchips.head(5)"
   ],
   "metadata": {
    "collapsed": false
   }
  },
  {
   "cell_type": "code",
   "execution_count": 94,
   "outputs": [
    {
     "name": "stdout",
     "output_type": "stream",
     "text": [
      "k0+k1*(x1**1)*(x2**0)+k2*(x1**0)*(x2**1)+k3*(x1**2)*(x2**0)+k4*(x1**1)*(x2**1)+k5*(x1**0)*(x2**2)+k6*(x1**3)*(x2**0)+k7*(x1**2)*(x2**1)+k8*(x1**1)*(x2**2)+k9*(x1**0)*(x2**3)+k10*(x1**4)*(x2**0)+k11*(x1**3)*(x2**1)+k12*(x1**2)*(x2**2)+k13*(x1**1)*(x2**3)+k14*(x1**0)*(x2**4)+k15*(x1**5)*(x2**0)+k16*(x1**4)*(x2**1)+k17*(x1**3)*(x2**2)+k18*(x1**2)*(x2**3)+k19*(x1**1)*(x2**4)+k20*(x1**0)*(x2**5)+k21*(x1**6)*(x2**0)+k22*(x1**5)*(x2**1)+k23*(x1**4)*(x2**2)+k24*(x1**3)*(x2**3)+k25*(x1**2)*(x2**4)+k26*(x1**1)*(x2**5)+k27*(x1**0)*(x2**6)\n"
     ]
    },
    {
     "data": {
      "text/plain": "<Figure size 504x360 with 1 Axes>",
      "image/png": "[encoded data removed]"
     },
     "metadata": {
      "needs_background": "light"
     },
     "output_type": "display_data"
    },
    {
     "name": "stdout",
     "output_type": "stream",
     "text": [
      "F(theta)=0.6995031127633352\n",
      "F'(theta)=([array([0.00847458]), array([0.01878809]), array([7.77711864e-05]), array([0.05034464]), array([0.01150133]), array([0.03766485]), array([0.01835599]), array([0.00732393]), array([0.00819244]), array([0.02347649]), array([0.03934862]), array([0.00223924]), array([0.01286005]), array([0.00309594]), array([0.03930282]), array([0.01997075]), array([0.00432983]), array([0.00338644]), array([0.00583822]), array([0.00447629]), array([0.03100798]), array([0.03103124]), array([0.0010974]), array([0.00631571]), array([0.0004085]), array([0.00726504]), array([0.00137646]), array([0.03879364])])\n",
      "Coords calculation\n"
     ]
    },
    {
     "name": "stderr",
     "output_type": "stream",
     "text": [
      "100%|██████████| 118/118 [00:30<00:00,  3.88it/s]\n"
     ]
    },
    {
     "data": {
      "text/plain": "<Figure size 504x360 with 1 Axes>",
      "image/png": "[encoded data removed]"
     },
     "metadata": {
      "needs_background": "light"
     },
     "output_type": "display_data"
    },
    {
     "name": "stdout",
     "output_type": "stream",
     "text": [
      "microchip with tests -0.85196 and -0.36769 was Regected\n",
      "accuracy=84.7457627118644\n"
     ]
    }
   ],
   "source": [
    "predict=LogisticRegression(microchips,\n",
    "                         classes=[\"Regected\",\"Accepted\"],\n",
    "                         degree_polynomial=6,\n",
    "                         lam=1)\n",
    "\n",
    "print(predict.string_function)\n",
    "\n",
    "predict.drawGraph()\n",
    "\n",
    "print('F(theta)={}'.format(LossFunction.cross_entropy(predict.theta,predict.X, predict.Y,6)[0]))\n",
    "print(\"F'(theta)=({})\".format(list(LossFunction.cross_entropy_prime(predict.theta,predict.X, predict.Y,6))))\n",
    "\n",
    "predict.gradientDescent()\n",
    "\n",
    "predict.drawGraph(soluthion=True) #It is not recommended to enable it, because it is a long calculation\n",
    "\n",
    "\n",
    "x1,x2=-0.85196,-0.36769\n",
    "print('microchip with tests {} and {} was {}'.format(x1,x2,predict.get_tranclation_predict([[x1,x2]])[0]\n",
    "                                                                  ))\n",
    "print('accuracy={}'.format(predict.accuracy()))\n"
   ],
   "metadata": {
    "collapsed": false
   }
  },
  {
   "cell_type": "markdown",
   "source": [
    "##OVERfitting (lam=0)\n"
   ],
   "metadata": {
    "collapsed": false
   }
  },
  {
   "cell_type": "code",
   "execution_count": 96,
   "outputs": [
    {
     "name": "stdout",
     "output_type": "stream",
     "text": [
      "Coords calculation\n"
     ]
    },
    {
     "name": "stderr",
     "output_type": "stream",
     "text": [
      "100%|██████████| 118/118 [00:25<00:00,  4.60it/s]\n"
     ]
    },
    {
     "data": {
      "text/plain": "<Figure size 504x360 with 1 Axes>",
      "image/png": "[encoded data removed]"
     },
     "metadata": {
      "needs_background": "light"
     },
     "output_type": "display_data"
    }
   ],
   "source": [
    "predict=LogisticRegression(microchips,\n",
    "                         classes=[\"Regected\",\"Accepted\"],\n",
    "                         degree_polynomial=6,\n",
    "                         lam=0)\n",
    "\n",
    "predict.gradientDescent()\n",
    "\n",
    "predict.drawGraph(soluthion=True)\n"
   ],
   "metadata": {
    "collapsed": false
   }
  },
  {
   "cell_type": "markdown",
   "source": [
    "##UNDERfitting (lam=100)"
   ],
   "metadata": {
    "collapsed": false
   }
  },
  {
   "cell_type": "code",
   "execution_count": 67,
   "outputs": [
    {
     "name": "stdout",
     "output_type": "stream",
     "text": [
      "Coords calculation\n"
     ]
    },
    {
     "name": "stderr",
     "output_type": "stream",
     "text": [
      "100%|██████████| 118/118 [00:51<00:00,  2.27it/s]\n"
     ]
    },
    {
     "data": {
      "text/plain": "<Figure size 504x360 with 1 Axes>",
      "image/png": "[encoded data removed]"
     },
     "metadata": {
      "needs_background": "light"
     },
     "output_type": "display_data"
    }
   ],
   "source": [
    "predict=LogisticRegression(microchips,\n",
    "                         classes=[\"Regected\",\"Accepted\"],\n",
    "                         degree_polynomial=6,\n",
    "                         lam=100)\n",
    "\n",
    "predict.gradientDescent()\n",
    "predict.drawGraph(soluthion=True)"
   ],
   "metadata": {
    "collapsed": false
   }
  },
  {
   "cell_type": "markdown",
   "source": [
    "lam=30"
   ],
   "metadata": {
    "collapsed": false
   }
  },
  {
   "cell_type": "code",
   "execution_count": 68,
   "outputs": [
    {
     "name": "stdout",
     "output_type": "stream",
     "text": [
      "Coords calculation\n"
     ]
    },
    {
     "name": "stderr",
     "output_type": "stream",
     "text": [
      "100%|██████████| 118/118 [15:19<00:00,  7.79s/it]\n"
     ]
    },
    {
     "data": {
      "text/plain": "<Figure size 504x360 with 1 Axes>",
      "image/png": "[encoded data removed]"
     },
     "metadata": {
      "needs_background": "light"
     },
     "output_type": "display_data"
    }
   ],
   "source": [
    "predict=LogisticRegression(microchips,\n",
    "                         classes=[\"Regected\",\"Accepted\"],\n",
    "                         degree_polynomial=6,\n",
    "                         lam=30)\n",
    "\n",
    "predict.gradientDescent()\n",
    "\n",
    "predict.drawGraph(soluthion=True)"
   ],
   "metadata": {
    "collapsed": false
   }
  },
  {
   "cell_type": "markdown",
   "source": [
    "overfitting can be combated by reducing the number of iterations"
   ],
   "metadata": {
    "collapsed": false
   }
  },
  {
   "cell_type": "markdown",
   "source": [
    "Handwritten digit recognition"
   ],
   "metadata": {
    "collapsed": false
   }
  },
  {
   "cell_type": "code",
   "execution_count": 97,
   "outputs": [],
   "source": [
    "class MNIST_classification:\n",
    "  def __init__(self,data,lam=0):\n",
    "    self.matrix_dimension=len(data.columns)\n",
    "    self.data=data.copy()\n",
    "    self.lam=lam\n",
    "\n",
    "  def train(self):\n",
    "    self.creat_binary_cassifiers()\n",
    "\n",
    "  def getPredict(self,data):\n",
    "    ones_vector = np.ones((len(data),1))\n",
    "    data=np.hstack((ones_vector,data))\n",
    "\n",
    "    predict=[]\n",
    "    for X in data:\n",
    "      softmax=[]\n",
    "      for theta in self.weights:\n",
    "        h=sigmoid(np.dot(X,theta.T))\n",
    "        softmax.append(h)\n",
    "      predict.append(softmax.index(max(softmax)))\n",
    "    return predict\n",
    "\n",
    "  def creat_binary_cassifiers(self):\n",
    "    self.weights=[]\n",
    "    print(\"Creat binary cassifiers\")\n",
    "    for number in tqdm(range(10)):\n",
    "      self.setVectors(number)\n",
    "      theta=self.gradientDescent()\n",
    "      self.weights.append(theta)\n",
    "\n",
    "  def setVectors(self,number):\n",
    "    self.X = np.array(self.data[self.data.columns[:-1]])\n",
    "    ones_vector = np.ones((len(self.X),1))\n",
    "    self.X=np.hstack((ones_vector,self.X))\n",
    "    self.Y = np.array(self.data[self.data.columns[-1:]])\n",
    "    self.Y=self.transorm_Y(self.Y,number)\n",
    "    self.Y=np.resize(self.Y,(1,len(self.Y)))[0]\n",
    "\n",
    "    self.theta=np.resize(np.array([0 for _ in range(self.matrix_dimension)]),(self.matrix_dimension,1))\n",
    "\n",
    "  def transorm_Y(self,Y,number):\n",
    "    for i in range(len(Y)):\n",
    "      if Y[i]!=number:\n",
    "        Y[i]=0\n",
    "      else:\n",
    "        Y[i]=1\n",
    "    return Y\n",
    "\n",
    "\n",
    "  def gradientDescent(self):\n",
    "\n",
    "    result = opt.fmin_tnc(func = LossFunction.cross_entropy,\n",
    "                          x0 = self.theta,\n",
    "                          fprime = LossFunction.cross_entropy_prime,\n",
    "                          args = (self.X, self.Y,self.lam))[0]\n",
    "    return result\n",
    "\n",
    "  def accuracy(self):\n",
    "    test_y=self.getPredict(np.array(self.data[self.data.columns[:-1]]))\n",
    "\n",
    "    train_y=self.data[self.data.columns[-1:]]\n",
    "    train_y=np.resize(train_y,(1,len(train_y)))[0]\n",
    "\n",
    "    accuracy=0\n",
    "    for i in range(len(train_y)):\n",
    "      accuracy+=abs(test_y[i]-train_y[i])\n",
    "    accuracy=(1-accuracy/len(train_y))*100\n",
    "    return accuracy\n",
    "\n",
    "\n"
   ],
   "metadata": {
    "collapsed": false
   }
  },
  {
   "cell_type": "code",
   "execution_count": 98,
   "outputs": [
    {
     "data": {
      "text/plain": "   0    1    2    3    4    5    6    7    8    9    ...  391  392  393  394  \\\n0  0.0  0.0  0.0  0.0  0.0  0.0  0.0  0.0  0.0  0.0  ...  0.0  0.0  0.0  0.0   \n1  0.0  0.0  0.0  0.0  0.0  0.0  0.0  0.0  0.0  0.0  ...  0.0  0.0  0.0  0.0   \n2  0.0  0.0  0.0  0.0  0.0  0.0  0.0  0.0  0.0  0.0  ...  0.0  0.0  0.0  0.0   \n3  0.0  0.0  0.0  0.0  0.0  0.0  0.0  0.0  0.0  0.0  ...  0.0  0.0  0.0  0.0   \n4  0.0  0.0  0.0  0.0  0.0  0.0  0.0  0.0  0.0  0.0  ...  0.0  0.0  0.0  0.0   \n\n   395  396  397  398  399  400  \n0  0.0  0.0  0.0  0.0  0.0  0.0  \n1  0.0  0.0  0.0  0.0  0.0  0.0  \n2  0.0  0.0  0.0  0.0  0.0  0.0  \n3  0.0  0.0  0.0  0.0  0.0  0.0  \n4  0.0  0.0  0.0  0.0  0.0  0.0  \n\n[5 rows x 401 columns]",
      "text/html": "<div>\n<style scoped>\n    .dataframe tbody tr th:only-of-type {\n        vertical-align: middle;\n    }\n\n    .dataframe tbody tr th {\n        vertical-align: top;\n    }\n\n    .dataframe thead th {\n        text-align: right;\n    }\n</style>\n<table border=\"1\" class=\"dataframe\">\n  <thead>\n    <tr style=\"text-align: right;\">\n      <th></th>\n      <th>0</th>\n      <th>1</th>\n      <th>2</th>\n      <th>3</th>\n      <th>4</th>\n      <th>5</th>\n      <th>6</th>\n      <th>7</th>\n      <th>8</th>\n      <th>9</th>\n      <th>...</th>\n      <th>391</th>\n      <th>392</th>\n      <th>393</th>\n      <th>394</th>\n      <th>395</th>\n      <th>396</th>\n      <th>397</th>\n      <th>398</th>\n      <th>399</th>\n      <th>400</th>\n    </tr>\n  </thead>\n  <tbody>\n    <tr>\n      <th>0</th>\n      <td>0.0</td>\n      <td>0.0</td>\n      <td>0.0</td>\n      <td>0.0</td>\n      <td>0.0</td>\n      <td>0.0</td>\n      <td>0.0</td>\n      <td>0.0</td>\n      <td>0.0</td>\n      <td>0.0</td>\n      <td>...</td>\n      <td>0.0</td>\n      <td>0.0</td>\n      <td>0.0</td>\n      <td>0.0</td>\n      <td>0.0</td>\n      <td>0.0</td>\n      <td>0.0</td>\n      <td>0.0</td>\n      <td>0.0</td>\n      <td>0.0</td>\n    </tr>\n    <tr>\n      <th>1</th>\n      <td>0.0</td>\n      <td>0.0</td>\n      <td>0.0</td>\n      <td>0.0</td>\n      <td>0.0</td>\n      <td>0.0</td>\n      <td>0.0</td>\n      <td>0.0</td>\n      <td>0.0</td>\n      <td>0.0</td>\n      <td>...</td>\n      <td>0.0</td>\n      <td>0.0</td>\n      <td>0.0</td>\n      <td>0.0</td>\n      <td>0.0</td>\n      <td>0.0</td>\n      <td>0.0</td>\n      <td>0.0</td>\n      <td>0.0</td>\n      <td>0.0</td>\n    </tr>\n    <tr>\n      <th>2</th>\n      <td>0.0</td>\n      <td>0.0</td>\n      <td>0.0</td>\n      <td>0.0</td>\n      <td>0.0</td>\n      <td>0.0</td>\n      <td>0.0</td>\n      <td>0.0</td>\n      <td>0.0</td>\n      <td>0.0</td>\n      <td>...</td>\n      <td>0.0</td>\n      <td>0.0</td>\n      <td>0.0</td>\n      <td>0.0</td>\n      <td>0.0</td>\n      <td>0.0</td>\n      <td>0.0</td>\n      <td>0.0</td>\n      <td>0.0</td>\n      <td>0.0</td>\n    </tr>\n    <tr>\n      <th>3</th>\n      <td>0.0</td>\n      <td>0.0</td>\n      <td>0.0</td>\n      <td>0.0</td>\n      <td>0.0</td>\n      <td>0.0</td>\n      <td>0.0</td>\n      <td>0.0</td>\n      <td>0.0</td>\n      <td>0.0</td>\n      <td>...</td>\n      <td>0.0</td>\n      <td>0.0</td>\n      <td>0.0</td>\n      <td>0.0</td>\n      <td>0.0</td>\n      <td>0.0</td>\n      <td>0.0</td>\n      <td>0.0</td>\n      <td>0.0</td>\n      <td>0.0</td>\n    </tr>\n    <tr>\n      <th>4</th>\n      <td>0.0</td>\n      <td>0.0</td>\n      <td>0.0</td>\n      <td>0.0</td>\n      <td>0.0</td>\n      <td>0.0</td>\n      <td>0.0</td>\n      <td>0.0</td>\n      <td>0.0</td>\n      <td>0.0</td>\n      <td>...</td>\n      <td>0.0</td>\n      <td>0.0</td>\n      <td>0.0</td>\n      <td>0.0</td>\n      <td>0.0</td>\n      <td>0.0</td>\n      <td>0.0</td>\n      <td>0.0</td>\n      <td>0.0</td>\n      <td>0.0</td>\n    </tr>\n  </tbody>\n</table>\n<p>5 rows × 401 columns</p>\n</div>"
     },
     "execution_count": 98,
     "metadata": {},
     "output_type": "execute_result"
    }
   ],
   "source": [
    "mnist = pd.read_csv(\"ex2data3.txt\", header=None)\n",
    "#microchips.column=['test1','test2','res']  #Accepted','Regected\n",
    "mnist.head(5)"
   ],
   "metadata": {
    "collapsed": false
   }
  },
  {
   "cell_type": "code",
   "execution_count": 99,
   "outputs": [],
   "source": [
    "X_test = np.array(mnist[mnist.columns[:-1]])"
   ],
   "metadata": {
    "collapsed": false
   }
  },
  {
   "cell_type": "code",
   "execution_count": 100,
   "outputs": [
    {
     "name": "stdout",
     "output_type": "stream",
     "text": [
      "Creat binary cassifiers\n"
     ]
    },
    {
     "name": "stderr",
     "output_type": "stream",
     "text": [
      "100%|██████████| 10/10 [00:13<00:00,  1.33s/it]\n"
     ]
    },
    {
     "name": "stdout",
     "output_type": "stream",
     "text": [
      "accuracy=90.22\n"
     ]
    }
   ],
   "source": [
    "predict=MNIST_classification(mnist)\n",
    "predict.train()\n",
    "print('accuracy={}'.format(predict.accuracy()))"
   ],
   "metadata": {
    "collapsed": false
   }
  },
  {
   "cell_type": "code",
   "execution_count": 102,
   "outputs": [
    {
     "data": {
      "text/plain": "<Figure size 432x288 with 1 Axes>",
      "image/png": "[encoded data removed]"
     },
     "metadata": {
      "needs_background": "light"
     },
     "output_type": "display_data"
    }
   ],
   "source": [
    "def test(image):\n",
    "  gray=np.resize(image,(20,20))\n",
    "  gray = imutils.rotate(gray, angle=240)[:,::-1]\n",
    "  plt.imshow(gray)\n",
    "  plt.title(\"The figure shows the number {}\".format(predict.getPredict([image])[0]))\n",
    "  plt.show()\n",
    "\n",
    "\n",
    "test(X_test[3501])\n"
   ],
   "metadata": {
    "collapsed": false
   }
  }
 ]
}
