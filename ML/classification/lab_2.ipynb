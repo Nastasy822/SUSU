{
 "nbformat": 4,
 "nbformat_minor": 0,
 "metadata": {
  "colab": {
   "provenance": [
    {
     "file_id": "1sCAcIGk2q9dL8dpFYddnsUin2MlhjaRw",
     "timestamp": 1662456295652
    }
   ],
   "collapsed_sections": []
  },
  "kernelspec": {
   "name": "python3",
   "display_name": "Python 3"
  },
  "gpuClass": "standard"
 },
 "cells": [
  {
   "cell_type": "markdown",
   "source": [
    "Задача классификации. Логистическая регрессия. Проблема переобучения. Регуляризация"
   ],
   "metadata": {
    "id": "eTu9uW0rS_-M"
   }
  },
  {
   "cell_type": "markdown",
   "source": [
    "##univariate linear regression\n"
   ],
   "metadata": {
    "id": "14pX8Xg_FpS8"
   }
  },
  {
   "cell_type": "code",
   "source": [
    "import numpy as np\n",
    "import math \n",
    "import scipy.optimize as opt\n",
    "import sys\n",
    "\n",
    "\n",
    "class classification:\n",
    "  def __init__(self,data,classes,norm=False):\n",
    "    self.data=data\n",
    "    self.matrix_dimension=len(data.columns)\n",
    "    self.data=data.copy()\n",
    "    if norm:\n",
    "      self.__normaliation()\n",
    "\n",
    "    self.classes=classes\n",
    "  \n",
    "  def __normaliation(self):\n",
    "    for colum in list(self.data.columns):\n",
    "      self.data[colum]=(self.data[colum]-self.data[colum].mean())/self.data[colum].std()\n",
    "\n",
    "  def drawGraph(self,x_size=7,y_size=5,soluthion=False):\n",
    "    import matplotlib.pyplot as plt\n",
    "    plt.figure(figsize=(x_size, y_size))\n",
    "\n",
    "    data0=self.data.loc[self.data[self.data.columns[2]] == 0] \n",
    "    data1=self.data.loc[self.data[self.data.columns[2]] == 1]\n",
    "\n",
    "    plt.plot(data0[data0.columns[0]],\n",
    "             data0[data0.columns[1]],\n",
    "             label = self.classes[0],color=\"r\" ,marker='x',linestyle='none')\n",
    "    \n",
    "    plt.plot(data1[data1.columns[0]],\n",
    "             data1[data1.columns[1]],\n",
    "             label = self.classes[1],color=\"b\" ,marker='o',linestyle='none')\n",
    "    \n",
    "    if soluthion:\n",
    "\n",
    "                                                #self.getPredict(self.data[self.data.columns[1]])\n",
    "      plt.plot(self.data[self.data.columns[1]], -(self.theta[0]+self.theta[1]*self.data[self.data.columns[1]])/self.theta[2],\n",
    "               color=\"y\",label =\"{}+{}x+{}y=0\".format(round(self.theta[0],8),round(self.theta[1],8),round(self.theta[2],8))  ) \n",
    "    \n",
    "\n",
    "    plt.xlabel(self.data.columns[0]), plt.ylabel(self.data.columns[1])\n",
    "\n",
    "    plt.legend()\n",
    "    plt.show()\n",
    "\n",
    "\n",
    "  def getPredict(self,*nums):\n",
    "    if len(nums)>self.matrix_dimension-1: #-(self.theta[0]+self.theta[1]*self.data[self.data.columns[1]])/self.theta[2]\n",
    "      print('too many options')\n",
    "      sys.exit()\n",
    "    result=self.theta[0]\n",
    "\n",
    "    for i in range(len(nums)):\n",
    "      result+=nums[i]*self.theta[i+1]\n",
    "\n",
    "\n",
    "    result[result >=0] = 1\n",
    "    result[result <0] =0\n",
    "\n",
    "    return result\n",
    "\n",
    "  def get_tranclation_predict(self,*nums):\n",
    "    result=self.getPredict(*nums)\n",
    "    return [self.classes[int(i)] for i in result]\n",
    "\n",
    "  def getVectors(self):\n",
    "    self.X = np.array(self.data[self.data.columns[:-1]])\n",
    "    ones_vector = np.ones((len(self.X),1))\n",
    "    self.X=np.hstack((ones_vector,self.X))\n",
    "    self.Y = np.array(self.data[self.data.columns[-1:]])\n",
    "    self.theta=np.resize(np.array([0 for _ in range(self.matrix_dimension)]),(self.matrix_dimension,1))\n",
    "    return self.X,self.Y,self.theta\n",
    "  \n",
    "  def sigmoid(self,z):\n",
    "      return 1/(1+np.exp(-z))\n",
    "  \n",
    "  def computeCost(self,theta,X,y):\n",
    "      hThetaX = self.sigmoid(np.dot(X, theta))\n",
    "      y=np.resize(y,(1,len(y)))[0]\n",
    "      J = - (np.dot(y, np.log(hThetaX)) + np.dot((1 - y), np.log(1 - hThetaX))) / len(y)\n",
    "      return J\n",
    "\n",
    "  def oldGradientDescent(self):\n",
    "    self.J_iters=[]\n",
    "    for iter in range(self.iters):\n",
    "      self.J_iters.append(self.__computeCost(self.X, self.Y))\n",
    "      self.theta=self.theta-((self.alpha/len(y))*self.X.transpose()).dot((self.X.dot(self.theta)-self.Y))\n",
    "    return self.theta\n",
    "\n",
    "  # Приозводная целевой функции J'(theta)\n",
    "  def gradientFunc(self,theta,X, y):\n",
    "    #from sympy import diff,cos,symbols,exp\n",
    "\n",
    "    \n",
    "    hThetaX = self.sigmoid(np.dot(X, theta))\n",
    "    gradient =  np.dot(X.T, (hThetaX - y)) / len(y)\n",
    "    \n",
    "    return gradient\n",
    "\n",
    "  def gradientDescent(self,theta,X, y):\n",
    "    y=np.resize(y,(1,len(y)))[0]\n",
    "    result = opt.fmin_tnc(func = self.computeCost,            #метода Ньютона сопряженных градиентов\n",
    "                          x0 = theta, fprime = self.gradientFunc,\n",
    "                          args = (X, y))    \n",
    "    theta_optimized = result[0]\n",
    "    print(theta_optimized)\n",
    "    self.theta=theta_optimized\n",
    "\n",
    "\n",
    "  def accuracy(self):\n",
    "    test_y=self.getPredict(self.data[self.data.columns[0]],self.data[self.data.columns[1]])\n",
    "    train_y=np.resize(self.Y,(1,len(self.Y)))[0]\n",
    "    accuracy=0\n",
    "    for i in range(len(train_y)):\n",
    "      accuracy+=abs(test_y[i]-train_y[i])\n",
    "    accuracy=(1-accuracy/len(train_y))*100\n",
    "    return accuracy\n",
    "\n",
    "\n",
    "\n",
    "\n",
    "\n",
    "\n",
    "\n",
    "\n",
    "  def grapdooooientFunc(self,theta,X, y):\n",
    "    #self.J_iters=[]\n",
    "    \n",
    "    result = opt.fmin_tnc(func = self.com9puteCost,\n",
    "                          x0 = self.theta, fprime = self.gradientFunc,\n",
    "                          args = (X, y))\n",
    "    theta_optimized = result[0]\n",
    "    print(theta_optimized)\n",
    "    return self.theta\n",
    "\n",
    "\n",
    "   "
   ],
   "metadata": {
    "id": "c7a9mYxdC9_O",
    "executionInfo": {
     "status": "ok",
     "timestamp": 1663780056948,
     "user_tz": -300,
     "elapsed": 3,
     "user": {
      "displayName": "Anastasia Strueva",
      "userId": "02698906465328404867"
     }
    }
   },
   "execution_count": 194,
   "outputs": []
  },
  {
   "cell_type": "code",
   "source": [
    "import pandas as pd\n",
    "data_exam = pd.read_csv(\"ex2data1.txt\", header=None)\n",
    "data_exam.column=['Exam1_score','Exam2_score','res']\n",
    "data_exam.head(5)"
   ],
   "metadata": {
    "colab": {
     "base_uri": "https://localhost:8080/",
     "height": 261
    },
    "id": "GuvNQdn9B5PN",
    "executionInfo": {
     "status": "ok",
     "timestamp": 1663779849382,
     "user_tz": -300,
     "elapsed": 982,
     "user": {
      "displayName": "Anastasia Strueva",
      "userId": "02698906465328404867"
     }
    },
    "outputId": "4304c41c-410b-4555-baf3-88357fca0a73"
   },
   "execution_count": 186,
   "outputs": [
    {
     "name": "stderr",
     "output_type": "stream",
     "text": [
      "C:\\Users\\nasta\\AppData\\Local\\Temp\\ipykernel_5876\\2372403090.py:3: UserWarning: Pandas doesn't allow columns to be created via a new attribute name - see https://pandas.pydata.org/pandas-docs/stable/indexing.html#attribute-access\n",
      "  data_exam.column=['Exam1_score','Exam2_score','res']\n"
     ]
    },
    {
     "data": {
      "text/plain": "           0          1  2\n0  34.623660  78.024693  0\n1  30.286711  43.894998  0\n2  35.847409  72.902198  0\n3  60.182599  86.308552  1\n4  79.032736  75.344376  1",
      "text/html": "<div>\n<style scoped>\n    .dataframe tbody tr th:only-of-type {\n        vertical-align: middle;\n    }\n\n    .dataframe tbody tr th {\n        vertical-align: top;\n    }\n\n    .dataframe thead th {\n        text-align: right;\n    }\n</style>\n<table border=\"1\" class=\"dataframe\">\n  <thead>\n    <tr style=\"text-align: right;\">\n      <th></th>\n      <th>0</th>\n      <th>1</th>\n      <th>2</th>\n    </tr>\n  </thead>\n  <tbody>\n    <tr>\n      <th>0</th>\n      <td>34.623660</td>\n      <td>78.024693</td>\n      <td>0</td>\n    </tr>\n    <tr>\n      <th>1</th>\n      <td>30.286711</td>\n      <td>43.894998</td>\n      <td>0</td>\n    </tr>\n    <tr>\n      <th>2</th>\n      <td>35.847409</td>\n      <td>72.902198</td>\n      <td>0</td>\n    </tr>\n    <tr>\n      <th>3</th>\n      <td>60.182599</td>\n      <td>86.308552</td>\n      <td>1</td>\n    </tr>\n    <tr>\n      <th>4</th>\n      <td>79.032736</td>\n      <td>75.344376</td>\n      <td>1</td>\n    </tr>\n  </tbody>\n</table>\n</div>"
     },
     "execution_count": 186,
     "metadata": {},
     "output_type": "execute_result"
    }
   ]
  },
  {
   "cell_type": "code",
   "source": [
    "predict=classification(data_exam,classes=[\"Not admitted\",\"Admitted\"])\n",
    "\n",
    "X,Y,theta=predict.getVectors()\n",
    "predict.drawGraph()\n",
    "print('F(theta)={}'.format(predict.computeCost(theta,X, Y)[0]))\n",
    "print(\"F'(theta)=({},)\".format(predict.gradientFunc(theta,X, Y)))\n",
    "#predict.gradientFunc(theta,X, Y)\n",
    "predict.gradientDescent(theta,X, Y)\n",
    "predict.drawGraph(soluthion=True)\n",
    "\n",
    "x1,x2=45,85\n",
    "print('student with points {} and {} was {} in university'.format(x1,x2,predict.get_tranclation_predict(np.array([x1]),np.array([x2]))))\n",
    "predict.accuracy()\n",
    "#print('student with points {} and {} was {} in university'.format(x1,x2,predict.getPredict(x1,x2)))"
   ],
   "metadata": {
    "colab": {
     "base_uri": "https://localhost:8080/",
     "height": 738
    },
    "id": "A3s7BpOsDKoW",
    "executionInfo": {
     "status": "ok",
     "timestamp": 1663780424842,
     "user_tz": -300,
     "elapsed": 687,
     "user": {
      "displayName": "Anastasia Strueva",
      "userId": "02698906465328404867"
     }
    },
    "outputId": "597c352f-cda9-433c-d315-d7626fb2ec6e"
   },
   "execution_count": 195,
   "outputs": [
    {
     "data": {
      "text/plain": "<Figure size 504x360 with 1 Axes>",
      "image/png": "[encoded data removed]"
     },
     "metadata": {
      "needs_background": "light"
     },
     "output_type": "display_data"
    },
    {
     "name": "stdout",
     "output_type": "stream",
     "text": [
      "F(theta)=0.6931471805599453\n",
      "F'(theta)=([[ -0.1       ]\n",
      " [-12.00921659]\n",
      " [-11.26284221]],)\n",
      "[-25.16131846   0.20623159   0.20147148]\n"
     ]
    },
    {
     "data": {
      "text/plain": "<Figure size 504x360 with 1 Axes>",
      "image/png": "[encoded data removed]"
     },
     "metadata": {
      "needs_background": "light"
     },
     "output_type": "display_data"
    },
    {
     "name": "stdout",
     "output_type": "stream",
     "text": [
      "student with points 45 and 85 was ['Admitted'] in university\n"
     ]
    },
    {
     "data": {
      "text/plain": "89.0"
     },
     "execution_count": 195,
     "metadata": {},
     "output_type": "execute_result"
    }
   ]
  },
  {
   "cell_type": "code",
   "execution_count": null,
   "outputs": [],
   "source": [],
   "metadata": {
    "collapsed": false
   }
  },
  {
   "cell_type": "markdown",
   "source": [
    "Получили границу решения, разделяющие классы"
   ],
   "metadata": {
    "collapsed": false
   }
  },
  {
   "cell_type": "code",
   "source": [
    "benefits_linear_regression=predict.getPredict(10)\n",
    "print('Predicting the benefits of opening a restaurant in a city of 10 million {}'.format(benefits_linear_regression))"
   ],
   "metadata": {
    "id": "8patjgqBkqDF"
   },
   "execution_count": null,
   "outputs": []
  },
  {
   "cell_type": "code",
   "source": [
    "Постройте границу решения. Что получилось?\n",
    "Для студента, сдавшего экзамены на 45 и 85 баллов, оцените вероятность\n",
    "поступления.\n",
    "Оцените точность классификатора. Каков процент его правильных ответов?"
   ],
   "metadata": {
    "id": "4d12DjBjUPx4"
   },
   "execution_count": null,
   "outputs": []
  },
  {
   "cell_type": "code",
   "source": [
    "Дальше мы могли бы взять функцию gradientDescent(X, y, theta, alpha, iters),\n",
    "реализующую метод градиентного спуска из прошлой лабораторной работы. Почему?\n",
    "Мы не будем этого делать, т.к. чистый метод градиентного спуска, реализованный в ней,\n",
    "работает медленно и практически уже не используется. Давайте воспользуемся его\n",
    "модификацией - готовой реализацией метода Ньютона сопряженных градиентов из пакета\n",
    "Scipy. Добавим импорт"
   ],
   "metadata": {
    "id": "7PhgJz0fZrb-"
   },
   "execution_count": null,
   "outputs": []
  }
 ]
}
